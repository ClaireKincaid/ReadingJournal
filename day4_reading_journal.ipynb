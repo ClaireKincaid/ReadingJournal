{
 "cells": [
  {
   "cell_type": "markdown",
   "metadata": {},
   "source": [
    "# Day 4 Reading Journal\n",
    "\n",
    "This journal includes several required exercises, but it is meant to encourage active reading more generally.  You should use the journal to take detailed notes, catalog questions, and explore the content from Think Python deeply.\n",
    "\n",
    "Reading: Think Python Chapter 10\n",
    "\n",
    "**Due: Thursday, February 4 at 12 noon**\n",
    "\n"
   ]
  },
  {
   "cell_type": "markdown",
   "metadata": {},
   "source": [
    "## [Chapter 10](http://www.greenteapress.com/thinkpython/html/thinkpython011.html)\n",
    "\n",
    "You may want to review [state diagrams in Chapter 2](http://www.greenteapress.com/thinkpython/html/thinkpython003.html#toc13). [Python Tutor](http://pythontutor.com/) is also helpful for visualizing the state of your program.\n",
    "\n",
    "10.7 Map, filter and reduce\n",
    "\"\"\"beginning at 10.7 after day3_reading_journal.ipynb left off\"\"\"\n",
    "- augmented assignment statement: +=: adds to current value and reassigns to new value\n",
    "- accumulator: a variable that accumulates elements operated on\n",
    "- reduce: operation that combines a sequence of elements into a single value\n",
    "- traverse one list while building another-- initialize your building list as 0, and append\n",
    "- map-- an operation that maps a function to another sequence\n",
    "- select some letters from a string and return a substring-- filter-- selects some elements and filters ut others\n",
    "\n",
    "10.8 deleting elements\n",
    "- pop modifies list and returns element that was removed \n",
    "    - its a method list.pop(thing you're getting rid of)\n",
    "    - with no index, deletes/returns last element\n",
    "- del operator removes specified index del t[1]\n",
    "- remove removes a value without having to specify its index, return value is None\n",
    "    - t = ['a', 'b', 'c']\n",
    "    - remove('b')\n",
    "    - print t\n",
    "    - t = ['a', 'c']\n",
    "    \n",
    "10.9 Lists and Strings\n",
    "- string is a sequence of characters, is immutable\n",
    "- list is sequence of values, is mutible\n",
    "- list of characters is NOT the same as a string\n",
    "- avoid using 'list' as a variable name, avoid using l looks 1\n",
    "- list: built in function breaks a string into a list of several letters\n",
    "- split method: breaks a string into a list of several space separated words\n",
    "- delimiter: optional argument, specifies characters to use as word boundaries in split\n",
    "- join: inverse method of split; concatenates elements of a list with spaces, delimiter same\n",
    "\n",
    "10.10 Objects and values\n",
    "- is operator; checks if two variables refer to same object\n",
    "    - returns boolean statement \n",
    "- equivalent lists have same elements, not necessarily identical\n",
    "- identical lists are the same objects, always equivalent\n",
    "- an object has a value-- could be none or an integer\n",
    "\n",
    "10.11 Aliasing\n",
    "- if a refers to an object and you assign b= a, then they refer to same object, are identicle\n",
    "- reference: the association of a variable with an object\n",
    "- object with more than one reference has more than one name: object is aliased\n",
    "- if aliased object is mutable, one alias can affect the other\n",
    "    - error prone behavior\n",
    "\n",
    "10.12 List arguments\n",
    "- when list passed to function, function gets a reference to the list\n",
    "- if function modifies parameter, user sees\n",
    "- important to distinguish between operations that modify lists and operations that create new lists\n",
    "- slice operator is your best friend \n",
    "\n",
    "10.13 Debugging\n",
    "- careless use of lists leads to long painful hours of debugging\n",
    "- \"new\" in a doctest means make a new version of the thing\n",
    "- Useful strategies\n",
    "    - most list methods modify the argument and return none-- modifys the list, different from string methods, which make new string\n",
    "    - pick an idiom and stick with it-- choose one way to do a thing\n",
    "    - make copies to avoid aliasing"
   ]
  },
  {
   "cell_type": "markdown",
   "metadata": {},
   "source": [
    "### Exercise 4  \n",
    "Write a function called `middle` that takes a list and returns a new list that contains all but the first and last elements. So `middle([1,2,3,4])` should return `[2,3]`."
   ]
  },
  {
   "cell_type": "code",
   "execution_count": 17,
   "metadata": {
    "collapsed": false
   },
   "outputs": [
    {
     "name": "stdout",
     "output_type": "stream",
     "text": [
      "[1, 2, 3, 4, 5, 6, 7, 8, 9]\n"
     ]
    },
    {
     "data": {
      "text/plain": [
       "[2, 3, 4, 5, 6, 7, 8]"
      ]
     },
     "execution_count": 17,
     "metadata": {},
     "output_type": "execute_result"
    }
   ],
   "source": [
    "import copy \n",
    "\n",
    "def middle(L):\n",
    "    newL = L[:] #slice returns a copy, not an alias\n",
    "    del newL[0]\n",
    "    del newL[-1]\n",
    "    print L\n",
    "    return newL\n",
    "\n",
    "L = [1,2,3,4,5,6,7,8,9]\n",
    "middle(L)"
   ]
  },
  {
   "cell_type": "markdown",
   "metadata": {},
   "source": [
    "### Exercise 5  \n",
    "Write a function called `chop` that takes a list, modifies it by removing the first and last elements, and returns `None`.\n",
    "\n",
    "What is the difference between `middle` and `chop`? Sketch out the program state or take a look at each in Python Tutor."
   ]
  },
  {
   "cell_type": "code",
   "execution_count": 12,
   "metadata": {
    "collapsed": false
   },
   "outputs": [
    {
     "name": "stdout",
     "output_type": "stream",
     "text": [
      "[2, 3, 4, 5, 6, 7, 8]\n"
     ]
    }
   ],
   "source": [
    "def chop(L):\n",
    "    del L[0]\n",
    "    del L[(len(L)-1)]\n",
    "    print L          #Prints L, but returns value None\n",
    "    \n",
    "L = [1,2,3,4,5,6,7,8,9]\n",
    "chop(L)\n",
    "\n",
    "#looked in python tutor"
   ]
  },
  {
   "cell_type": "markdown",
   "metadata": {},
   "source": [
    "### Exercise 7  \n",
    "Two words are anagrams if you can rearrange the letters from one to spell the other. Write a function called `is_anagram` that takes two strings and returns `True` if they are anagrams."
   ]
  },
  {
   "cell_type": "code",
   "execution_count": 31,
   "metadata": {
    "collapsed": false
   },
   "outputs": [
    {
     "data": {
      "text/plain": [
       "True"
      ]
     },
     "execution_count": 31,
     "metadata": {},
     "output_type": "execute_result"
    }
   ],
   "source": [
    "def is_anagram(a, b):\n",
    "    if len(a) != len(b):\n",
    "        return False\n",
    "    a = a.lower()\n",
    "    b = b.lower()\n",
    "    a = list(a)\n",
    "    b = list(b)\n",
    "    a.sort()\n",
    "    b.sort()\n",
    "    i = 0\n",
    "    while i < len(a):\n",
    "        if a[i] == b[i]:\n",
    "            i = i + 1\n",
    "        else:\n",
    "            return False\n",
    "    return True\n",
    "\n",
    "a = 'PalInDROME'\n",
    "b = 'EMORDnilap'\n",
    "\n",
    "is_anagram(a, b)"
   ]
  },
  {
   "cell_type": "markdown",
   "metadata": {},
   "source": [
    "### Exercise 8  \n",
    "The (so-called) Birthday Paradox:\n",
    "1. Write a function called `has_duplicates` that takes a list and returns `True` if there is any element that appears more than once. It should not modify the original list.\n",
    "2. If there are 23 students in your class, what are the chances that two of you have the same birthday? You can estimate this probability by generating random samples of 23 birthdays and checking for matches. Hint: you can generate random birthdays with the randint function in the [random module](https://docs.python.org/2/library/random.html).\n",
    "\n",
    "You can read about this problem at http://en.wikipedia.org/wiki/Birthday_paradox, and you can download Allen's solution from http://thinkpython.com/code/birthday.py."
   ]
  },
  {
   "cell_type": "code",
   "execution_count": 49,
   "metadata": {
    "collapsed": false
   },
   "outputs": [
    {
     "name": "stdout",
     "output_type": "stream",
     "text": [
      "[80, 242, 108, 339, 23, 251, 303, 322, 221, 0, 280, 310, 142, 186, 137, 285, 220, 244, 43, 192, 350, 209, 59, 76, 23, 210, 23, 174, 84, 86, 87, 167, 274, 262, 286]\n",
      "82\n"
     ]
    }
   ],
   "source": [
    "import random\n",
    "\n",
    "def has_duplicates(a):\n",
    "    a1 = a[:]\n",
    "    duplicates = []\n",
    "    i = 0\n",
    "    while i < len(a):\n",
    "        if a1[i] in duplicates:\n",
    "            return True\n",
    "        else:\n",
    "            duplicates.append(a1[i])\n",
    "            i = i + 1\n",
    "    return False\n",
    "\n",
    "def birthday_generator():\n",
    "    birthDays = []\n",
    "    i = 1\n",
    "    while i <= 35:\n",
    "        birthDays.append(random.randint(0, 365))\n",
    "        i = i + 1\n",
    "    return birthDays\n",
    "\n",
    "print birthday_generator()\n",
    "\n",
    "x = 0\n",
    "for i in range(100):\n",
    "    if has_duplicates(birthday_generator()): \n",
    "        x += 1\n",
    "print x"
   ]
  },
  {
   "cell_type": "markdown",
   "metadata": {},
   "source": [
    "### Challenge: Exercise 11 (optional)\n",
    "\n",
    "You should read [Chapter 9.1](http://www.greenteapress.com/thinkpython/html/thinkpython010.html) and do Exercise 1 first.\n",
    "\n",
    "To check whether a word is in the word list, you could use the `in` operator, but it would be relatively slow because it searches through the words in order (try it).\n",
    "\n",
    "Because the words are in alphabetical order, we can speed things up with a bisection search (also known as binary search), which is similar to what you do when you look a word up in the dictionary. You start in the middle and check to see whether the word you are looking for comes before the word in the middle of the list. If so, then you search the first half of the list the same way. Otherwise you search the second half.\n",
    "\n",
    "Either way, you cut the remaining search space in half. If the word list has 113,809 words, it will take about 17 steps to find the word or conclude that it’s not there.\n",
    "\n",
    "Write a function called `bisect` that takes a sorted list and a target value and returns the index of the value in the list, if it’s there, or `None` if it’s not.\n",
    "\n",
    "Or you could read the documentation of the `bisect` module and use that! Solution: http://thinkpython.com/code/inlist.py."
   ]
  },
  {
   "cell_type": "code",
   "execution_count": null,
   "metadata": {
    "collapsed": true
   },
   "outputs": [],
   "source": []
  },
  {
   "cell_type": "markdown",
   "metadata": {},
   "source": [
    "## Reading Journal feedback\n",
    "\n",
    "Have any comments on this Reading Journal? Feel free to leave them below and we'll read them when you submit your journal entry. This could include suggestions to improve the exercises, topics you'd like to see covered in class next time, or other feedback.\n",
    "\n",
    "If you have Python questions or run into problems while completing the reading, you should post them to Piazza instead so you can get a quick response before your journal is submitted."
   ]
  },
  {
   "cell_type": "markdown",
   "metadata": {},
   "source": [
    " "
   ]
  }
 ],
 "metadata": {
  "kernelspec": {
   "display_name": "Python 2",
   "language": "python",
   "name": "python2"
  },
  "language_info": {
   "codemirror_mode": {
    "name": "ipython",
    "version": 2
   },
   "file_extension": ".py",
   "mimetype": "text/x-python",
   "name": "python",
   "nbconvert_exporter": "python",
   "pygments_lexer": "ipython2",
   "version": "2.7.6"
  }
 },
 "nbformat": 4,
 "nbformat_minor": 0
}

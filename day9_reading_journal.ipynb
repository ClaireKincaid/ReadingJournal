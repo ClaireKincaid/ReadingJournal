{
 "cells": [
  {
   "cell_type": "markdown",
   "metadata": {},
   "source": [
    "# Day 9 Reading Journal\n",
    "\n",
    "This journal includes several required exercises, but it is meant to encourage active reading more generally.  You should use the journal to take detailed notes, catalog questions, and explore the content from Think Python deeply.\n",
    "\n",
    "Reading: Think Python Chapter 13, 15\n",
    "\n",
    "**Due: Monday, February 22 at 12 noon**\n",
    "\n"
   ]
  },
  {
   "cell_type": "markdown",
   "metadata": {},
   "source": [
    "## [Chapter 13](http://www.greenteapress.com/thinkpython/html/thinkpython014.html)\n",
    "\n",
    "The content in this chapter could be very helpful for the text mining mini project. The reading and all exercises within are optional.\n",
    "\n",
    " - Section 13.3-4 gives a good example of some techniques for working with files, processing text, and doing some simple analysis. \n",
    " - Section 13.8 and the Markov generation in Exercise 8 can be a lot of fun. \n",
    " - Now that you know a wide range of different data structures, Section 13.9 starts to give some guidance for choosing between them\n",
    " - Section 13.10 explains Allen's \"4 r's\" of debugging strategy"
   ]
  },
  {
   "cell_type": "markdown",
   "metadata": {},
   "source": [
    "## [Chapter 15](http://www.greenteapress.com/thinkpython/html/thinkpython016.html)\n",
    "\n",
    "This chapter has very few (and short) exercises, and is more focused on starting to think about classes and objects. If you haven't seen user defined types like classes before, you should read closely and try out some examples on your own. For example, you can write a [Python Tutor example like this one](http://pythontutor.com/visualize.html#code=%23+Example+for+visualizing+object+diagrams+by+stepping+through+the+code%0A%0Aclass+Point(object%29%3A%0A++++%22%22%22Represents+a+point+in+2-D+space.%22%22%22%0A++++pass%0A%0Aclass+Rectangle(object%29%3A%0A++++%22%22%22Represents+a+rectangle.+%0A%0A++++attributes%3A+width,+height,+corner.%0A++++%22%22%22%0A++++pass%0A%0A%0A%23+Create+a+point+to+serve+as+origin+for+our+rectangles%0Ap+%3D+Point(%29%0Ap.x+%3D+10%0Ap.y+%3D+15%0A%0A%23+Create+two+rectangles+with+different+size%0Ar1+%3D+Rectangle(%29%0Ar1.corner+%3D+p%0Ar1.width+%3D+100%0Ar1.height+%3D+100%0A%0Ar2+%3D+Rectangle(%29%0Ar2.corner+%3D+p%0Ar2.width+%3D+50%0Ar2.height+%3D+200%0A%0A%23+Change+the+width+of+r2+-+what+(if+any%29+is+the+effect+on+r1+and+why%3F%0Ar2.width+%3D+150%0Aprint+r1.width%0A%0A%23+Change+the+corner+position+of+r1+-+what+(if+any%29+is+the+effect+on+r2+and+why%3F%0Ar1.corner.x+%3D+20%0Aprint+r2.corner.x&mode=display&origin=opt-frontend.js&cumulative=false&heapPrimitives=false&textReferences=false&py=2&rawInputLstJSON=%5B%5D&curInstr=0) to explore object diagrams and aliasing.\n",
    "\n",
    "**Note**: The sequence of operations we use in this chapter to create class instances and assign their attributes, e.g. \n",
    "\n",
    "```\n",
    "box = Rectangle()\n",
    "box.width = 100.0\n",
    "box.height = 200.0\n",
    "box.corner = Point()\n",
    "box.corner.x = 0.0\n",
    "box.corner.y = 0.0\n",
    "```\n",
    "\n",
    "is somewhat clumsy and error prone. Things will get better in the next couple chapters; feel free to look ahead if you'd like a sneak preview.\n",
    "\n",
    "15.1 User defined types\n",
    "- user defined type is called a class\n",
    "    class Point(object):\n",
    "        \"\"\"represents a point in 2D space\"\"\"\n",
    "- header indicates new class is a Point which is a built in type\n",
    "- body is docstring that explains what class is for\n",
    "    print Point\n",
    "    <class '__main__.Point'>\n",
    "- point is at top level, full name is __main__.Point\n",
    "- to create a point, call Point like a function\n",
    "- return value is reference to Point object, which we assign to blank\n",
    "- instantiation: creating a new object that is an instance of the class\n",
    "- print an instance, Python tells you what class it belongs too and where it is stored in memory (0x.....)\n",
    "\n",
    "15.2 Attributes\n",
    "- assign values to an instance using dot notation:\n",
    "blank.x = 3.0\n",
    "blank.y = 4.0\n",
    "- syntax similar to selecting variable from a module\n",
    "- attributes = named elements of an object w/ values\n",
    "- object diagram = state diagram that shows object w/ attributes\n",
    "- expression blank.x means \"go to object blank refers to and get value of x\"\n",
    "- dot notation can be used as part of any expression\n",
    "- print_point takes point as an argument and displays it in mathematical notation\n",
    "    def print_point(p):\n",
    "        print'(%g, %g)' %(p.x, p.y)\n",
    "\n",
    "15.3 Rectangles\n",
    "- what attributes would you use to specify location and size of rectangle?\n",
    "    - specify one corner of rectangle, width, and height\n",
    "    - specify two opposing corners\n",
    "  class Rectangle(object):\n",
    "      \"\"\"represents a rectangle.\n",
    "         \n",
    "      attributes: width, height, corner\n",
    "      \"\"\"\n",
    "- docstring lists attributes\n",
    "-to represent a rectangle, you have to instantiate a rectangle object and assign values to the attributes\n",
    "- an object that is an attribute of another object is embedded\n",
    "\n",
    "15.4 Instances as return values\n",
    "- functions can return instances\n",
    "- find_center takes a rectangle as an argument and returns a point that contains the coordinates of the center of the rectangle\n",
    "\n",
    "15.5 Objects are mutable\n",
    "- change state of object by making assignment to one of its attributes\n",
    "- also write functions that modify objects ex grow_rectangle\n",
    "\n",
    "15.6 Copying\n",
    "- aliasing can make a program difficult to read: changes in one place might have unexpected effects in another place\n",
    "- copying an object is an alternative to aliasing\n",
    "- copy module copy.copy can duplicated any object\n",
    "- copy contains the same data but is not the same\n",
    "- is operator indicates whether or not two things are the same\n",
    "- default behavior for == is the same as is\n",
    "- if you copy rectangle, copies rectangle object but not embedded point\n",
    "- shallow copy = copy.copy, copies object and references but not embedded objects\n",
    "- for most applications, this is not what you want\n",
    "- method deepcopy--copies object and embedded objects-deep copy\n",
    "- deep copy also completedly separates the objects-- shallow copy does not"
   ]
  },
  {
   "cell_type": "markdown",
   "metadata": {},
   "source": [
    "**Quick check:** In about one sentence using your own words, what is a class?"
   ]
  },
  {
   "cell_type": "markdown",
   "metadata": {},
   "source": [
    "a user made type "
   ]
  },
  {
   "cell_type": "markdown",
   "metadata": {
    "is_question": true,
    "problem": "Exercise 15.1"
   },
   "source": [
    "### Exercise 1  \n",
    "\n",
    "Write a function called `distance_between_points` that takes two `Points` as arguments and returns the distance between them."
   ]
  },
  {
   "cell_type": "code",
   "execution_count": 8,
   "metadata": {
    "collapsed": false,
    "solution": "Exercise 15.1"
   },
   "outputs": [
    {
     "name": "stdout",
     "output_type": "stream",
     "text": [
      "(3 4)\n",
      "(5 7)\n"
     ]
    },
    {
     "data": {
      "text/plain": [
       "3.605551275463989"
      ]
     },
     "execution_count": 8,
     "metadata": {},
     "output_type": "execute_result"
    }
   ],
   "source": [
    "class Point(object):\n",
    "    \"\"\"represents a point in 2D space\"\"\"\n",
    "    \n",
    "import math\n",
    "\n",
    "def distance_between_points(p1, p2):\n",
    "    print '(%g %g)' % (p1.x, p1.y)\n",
    "    print '(%g %g)' % (p2.x, p2.y)\n",
    "    xdistance = p1.x - p2.x\n",
    "    ydistance = p1.y - p2.y\n",
    "    distance = math.sqrt(xdistance**2 + ydistance**2)\n",
    "    return distance\n",
    "\n",
    "p1 = Point()\n",
    "p1.x = 3.0\n",
    "p1.y = 4.0\n",
    "p2 = Point()\n",
    "p2.x = 5.0\n",
    "p2.y = 7.0\n",
    "\n",
    "distance_between_points(p1, p2)"
   ]
  },
  {
   "cell_type": "markdown",
   "metadata": {
    "is_question": true,
    "problem": "Exercise 15.2"
   },
   "source": [
    "### Exercise 2  \n",
    "\n",
    "Write a function named `move_rectangle` that takes a `Rectangle` and two numbers named `dx` and `dy`. It should change the location of the rectangle by adding `dx` to the `x` coordinate of `corner` and adding `dy` to the `y` coordinate of `corner`."
   ]
  },
  {
   "cell_type": "code",
   "execution_count": 12,
   "metadata": {
    "collapsed": false,
    "solution": "Exercise 15.2"
   },
   "outputs": [
    {
     "data": {
      "text/plain": [
       "[100.0, 200.0, '(4 5)']"
      ]
     },
     "execution_count": 12,
     "metadata": {},
     "output_type": "execute_result"
    }
   ],
   "source": [
    "class Rectangle(object):\n",
    "    \"\"\"Represents a rectangle\n",
    "    attributes: width, height, corner.\n",
    "    \"\"\"\n",
    "    \n",
    "box = Rectangle\n",
    "box.width = 100.0\n",
    "box.height = 200.0\n",
    "box.corner = Point()\n",
    "box.corner.x = 0.0\n",
    "box.corner.y = 0.0\n",
    "\n",
    "def move_rectangle(box, dx, dy):\n",
    "    box.corner.x += dx\n",
    "    box.corner.y += dy\n",
    "    box.corner.coordinates = '(%g %g)' % (box.corner.x, box.corner.y)\n",
    "    boxlist = [box.width, box.height, box.corner.coordinates]\n",
    "    return boxlist\n",
    "    \n",
    "    \n",
    "move_rectangle(box, 4, 5)"
   ]
  },
  {
   "cell_type": "markdown",
   "metadata": {
    "is_question": true,
    "problem": "Exercise 15.3"
   },
   "source": [
    "### Exercise 3  \n",
    "\n",
    "Write a version of `move_rectangle` that creates and returns a new `Rectangle` instead of modifying the old one."
   ]
  },
  {
   "cell_type": "code",
   "execution_count": 21,
   "metadata": {
    "collapsed": false,
    "solution": "Exercise 15.3"
   },
   "outputs": [
    {
     "name": "stdout",
     "output_type": "stream",
     "text": [
      "True\n"
     ]
    },
    {
     "data": {
      "text/plain": [
       "([100.0, 200.0, '(4 5)'], [100.0, 200.0, '(4 5)'])"
      ]
     },
     "execution_count": 21,
     "metadata": {},
     "output_type": "execute_result"
    }
   ],
   "source": [
    "import copy\n",
    "\n",
    "box = Rectangle\n",
    "box.width = 100.0\n",
    "box.height = 200.0\n",
    "box.corner = Point()\n",
    "box.corner.x = 0.0\n",
    "box.corner.y = 0.0\n",
    "\n",
    "def copy_move_rectangle(box, dx, dy):\n",
    "    box2 = copy.deepcopy(box)\n",
    "    print box2 is box\n",
    "    box2.corner.x += dx\n",
    "    box2.corner.y += dy\n",
    "    box.corner.coordinates = '(%g %g)' % (box.corner.x, box.corner.y)\n",
    "    box2.corner.coordinates = '(%g %g)' % (box2.corner.x, box2.corner.y)\n",
    "    box2list = [box2.width, box2.height, box2.corner.coordinates]\n",
    "    boxlist = [box.width, box.height, box.corner.coordinates]\n",
    "    return box2list, boxlist\n",
    "\n",
    "copy_move_rectangle(box, 4, 5)\n",
    "\n",
    "#for some reason deepcopy is NOT doing what it is supposed to do, which is create a separate box than the original box. \n",
    "#when i print box2 is box, I should (according to allen downey) return false\n",
    "#it returns true WTF"
   ]
  },
  {
   "cell_type": "markdown",
   "metadata": {
    "is_question": true,
    "problem": "Time spent"
   },
   "source": [
    "## Quick poll\n",
    "About how long did you spend working on this Reading Journal?"
   ]
  },
  {
   "cell_type": "markdown",
   "metadata": {
    "poll_response": true,
    "solution": "Time spent"
   },
   "source": [
    "for just 15, which is what I'm turning in at the moment, this one took me around 45 minutes.  I plan on going back and finishing up 13 to help with the project. I'm anticipating around an hour for that one. "
   ]
  },
  {
   "cell_type": "markdown",
   "metadata": {
    "is_question": true,
    "problem": "Feedback"
   },
   "source": [
    "## Reading Journal feedback\n",
    "\n",
    "Have any comments on this Reading Journal? Feel free to leave them below and we'll read them when you submit your journal entry. This could include suggestions to improve the exercises, topics you'd like to see covered in class next time, or other feedback.\n",
    "\n",
    "If you have Python questions or run into problems while completing the reading, you should post them to Piazza instead so you can get a quick response before your journal is submitted."
   ]
  },
  {
   "cell_type": "markdown",
   "metadata": {
    "feedback_response": true,
    "solution": "Feedback"
   },
   "source": [
    " "
   ]
  }
 ],
 "metadata": {
  "celltoolbar": "Edit Metadata",
  "kernelspec": {
   "display_name": "Python 2",
   "language": "python",
   "name": "python2"
  },
  "language_info": {
   "codemirror_mode": {
    "name": "ipython",
    "version": 2
   },
   "file_extension": ".py",
   "mimetype": "text/x-python",
   "name": "python",
   "nbconvert_exporter": "python",
   "pygments_lexer": "ipython2",
   "version": "2.7.6"
  }
 },
 "nbformat": 4,
 "nbformat_minor": 0
}

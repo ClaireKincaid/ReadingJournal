{
 "cells": [
  {
   "cell_type": "markdown",
   "metadata": {},
   "source": [
    "# Day 11 Reading Journal\n",
    "\n",
    "This journal includes several required exercises, but it is meant to encourage active reading more generally.  You should use the journal to take detailed notes, catalog questions, and explore the content from Think Python deeply.\n",
    "\n",
    "Reading: Review Think Python Chapters 15-17\n",
    "\n",
    "**Due: Monday, February 29 at 12 noon**\n",
    "\n"
   ]
  },
  {
   "cell_type": "markdown",
   "metadata": {},
   "source": [
    "## [Chapter 15](http://www.greenteapress.com/thinkpython/html/thinkpython016.html), [Chapter 16](http://www.greenteapress.com/thinkpython/html/thinkpython017.html), [Chapter 17](http://www.greenteapress.com/thinkpython/html/thinkpython018.html)\n",
    "\n",
    "\n",
    "By the end of chapter 17, we have all the tools we need to create our own user-defined types known as classes. In this reading journal, we're asking you to review and solidify your understanding of this material so we can build on it for the rest of the course. \n",
    "\n",
    "If you didn't get a chance to fully complete the Day 10 reading journal, you may want to do so now."
   ]
  },
  {
   "cell_type": "markdown",
   "metadata": {
    "problem": "Terminology"
   },
   "source": [
    "### Terminology\n",
    "\n",
    "You should be familiar with the following list of terms and concepts. If any of them are unclear to you, re-read, ask, write a definition in your own words, and try an example if appropriate.\n",
    "\n",
    " - class\n",
    " - object\n",
    " - instance\n",
    " - attribute\n",
    " - method\n",
    " - shallow vs deep copying\n",
    " - pure functions vs modifiers\n",
    " - initializing object instances\n",
    " "
   ]
  },
  {
   "cell_type": "markdown",
   "metadata": {
    "is_question": true,
    "problem": "Exercise 1"
   },
   "source": [
    "### Exercise\n",
    "\n",
    "We're going to take the first steps toward writing a calendar application. To keep things simple, we'll restrict ourselves to a single day for now. Write an `Event` class with the following attributes:\n",
    "\n",
    " - `name`  : Title for the `Event`\n",
    " - `start` : `Time` object representing the start time for the `Event`\n",
    " - `end`   : `Time` object representing the end time for the `Event`\n",
    "\n",
    "You can also augment your `Event` class with additional attributes, such as location and attendees.\n",
    "\n",
    "Write `__init__` and `__str__` methods for your `Event` class."
   ]
  },
  {
   "cell_type": "code",
   "execution_count": 9,
   "metadata": {
    "collapsed": false,
    "solution": "Exercise 1"
   },
   "outputs": [
    {
     "name": "stdout",
     "output_type": "stream",
     "text": [
      "Team Meeting: 02:34:58 - 04:35:26, Attendees: P&M Team, Location: Studio 318\n"
     ]
    }
   ],
   "source": [
    "class Time(object):\n",
    "    \"\"\"military time of day \n",
    "    attributes: hour, minute, second\n",
    "    \"\"\"\n",
    "    def __init__(self, hour=0, minute=0, second=0):\n",
    "        self.hour = hour\n",
    "        self.minute = minute\n",
    "        self.second = second\n",
    "    def __str__(self):\n",
    "        return '%.2d:%.2d:%.2d' % (self.hour, self.minute, self.second)\n",
    "        \n",
    "class Event(object):\n",
    "    \"\"\"event in single day calendar:\n",
    "    attributes: name, start, end\n",
    "    \"\"\"\n",
    "    def __init__(self, name = '', start = Time(), end = Time(), attendees = '', location = ''):\n",
    "        self.name = name\n",
    "        self.start = start\n",
    "        self.end = end\n",
    "        self.attendees = attendees\n",
    "        self.location = location\n",
    "    def __str__(self):\n",
    "        return '%s: %s - %s, Attendees: %s, Location: %s' % (self.name, self.start, self.end, self.attendees, self.location)\n",
    "    \n",
    "start = Time(2, 34, 58)\n",
    "end = Time(4, 35, 26)\n",
    "Event1 = Event('Team Meeting', start, end, 'P&M Team', 'Studio 318')\n",
    "print Event1\n"
   ]
  },
  {
   "cell_type": "markdown",
   "metadata": {
    "is_question": true,
    "problem": "Exercise 2"
   },
   "source": [
    "### Exercise\n",
    "\n",
    "Write a `duration` method that returns the duration of the `Event` in minutes."
   ]
  },
  {
   "cell_type": "code",
   "execution_count": 16,
   "metadata": {
    "collapsed": false,
    "solution": "Exercise 2"
   },
   "outputs": [
    {
     "name": "stdout",
     "output_type": "stream",
     "text": [
      "Team Meeting: 02:30:00 - 04:30:00, Attendees: P&M Team, Location: Studio 318\n",
      "02:00:00\n"
     ]
    }
   ],
   "source": [
    "class Time(object):\n",
    "    \"\"\"military time of day \n",
    "    attributes: hour, minute, second\n",
    "    \"\"\"\n",
    "    def __init__(self, hour=0, minute=0, second=0):\n",
    "        self.hour = hour\n",
    "        self.minute = minute\n",
    "        self.second = second\n",
    "    def __str__(self):\n",
    "        return '%.2d:%.2d:%.2d' % (self.hour, self.minute, self.second)\n",
    "    def time_to_int(self):\n",
    "        minutes = (self.hour*60) + self.minute\n",
    "        seconds = (minutes*60) + self.second\n",
    "        return seconds\n",
    "        \n",
    "class Event(object):\n",
    "    \"\"\"event in single day calendar:\n",
    "    attributes: name, start, end\n",
    "    \"\"\"\n",
    "    def __init__(self, name = '', start = Time(), end = Time(), attendees = '', location = ''):\n",
    "        self.name = name\n",
    "        self.start = start\n",
    "        self.end = end\n",
    "        self.attendees = attendees\n",
    "        self.location = location\n",
    "    def __str__(self):\n",
    "        return '%s: %s - %s, Attendees: %s, Location: %s' % (self.name, self.start, self.end, self.attendees, self.location)\n",
    "    def duration(self):\n",
    "        duration = Time()\n",
    "        seconds = self.end.time_to_int() - self.start.time_to_int()\n",
    "        minutes, duration.second = divmod(seconds, 60)\n",
    "        duration.hour, duration.minute = divmod(minutes, 60)\n",
    "        print duration\n",
    "\n",
    "start = Time(2, 30)\n",
    "end = Time(4, 30)\n",
    "Event1 = Event('Team Meeting', start, end, 'P&M Team', 'Studio 318')\n",
    "print Event1\n",
    "Event1.duration()"
   ]
  },
  {
   "cell_type": "markdown",
   "metadata": {
    "is_question": true,
    "problem": "Exercise 3"
   },
   "source": [
    "### Exercise\n",
    "\n",
    "Write an `Agenda` class that contains several `Event`s for the day.\n",
    "\n",
    "**Quick check: ** How should you store `Event`s within your `Agenda` class?\n",
    "-- as a list(?)\n",
    "\n",
    "Your `Agenda` class should include a `print_agenda` method that prints out your schedule for the day, in order.\n",
    "\n",
    "**Optional:** Include a `is_feasible` method that returns `True` if your schedule has no time conflicts. You may want to write additional helper methods for the `Event` class to make this easier."
   ]
  },
  {
   "cell_type": "code",
   "execution_count": 7,
   "metadata": {
    "collapsed": false,
    "solution": "Exercise 3"
   },
   "outputs": [
    {
     "ename": "SyntaxError",
     "evalue": "invalid syntax (<ipython-input-7-e0b45f035981>, line 95)",
     "output_type": "error",
     "traceback": [
      "\u001b[1;36m  File \u001b[1;32m\"<ipython-input-7-e0b45f035981>\"\u001b[1;36m, line \u001b[1;32m95\u001b[0m\n\u001b[1;33m    newevent = print newevent\u001b[0m\n\u001b[1;37m                   ^\u001b[0m\n\u001b[1;31mSyntaxError\u001b[0m\u001b[1;31m:\u001b[0m invalid syntax\n"
     ]
    }
   ],
   "source": [
    "class Time(object):\n",
    "    \"\"\"military time of day \n",
    "    attributes: hour, minute, second\n",
    "    \"\"\"\n",
    "    def __init__(self, hour=0, minute=0, second=0):\n",
    "        self.hour = hour\n",
    "        self.minute = minute\n",
    "        self.second = second\n",
    "    def __str__(self):\n",
    "        return '%.2d:%.2d:%.2d' % (self.hour, self.minute, self.second)\n",
    "    def time_to_int(self):\n",
    "        minutes = (self.hour*60) + self.minute\n",
    "        seconds = (minutes*60) + self.second\n",
    "        return seconds\n",
    "        \n",
    "class Event(object):\n",
    "    \"\"\"event in single day calendar:\n",
    "    attributes: name, start, end\n",
    "    \"\"\"\n",
    "    def __init__(self, name = '', start = Time(), end = Time(), attendees = '', location = ''):\n",
    "        self.name = name\n",
    "        self.start = start\n",
    "        self.end = end\n",
    "        if self.start.hour > 24:\n",
    "            raise ValueError('time cannot exceed 24:00:00')\n",
    "        elif self.end.hour >= 24:\n",
    "            if self.start.minute > 0:\n",
    "                raise ValueError('Time cannot exceed 24:00:00')\n",
    "            elif self.start.minute == 0:\n",
    "                if self.start.second > 0:\n",
    "                    raise ValueError('Time cannot exceed 24:00:00')\n",
    "        if self.end.hour >24:\n",
    "            raise ValueError('Time cannot exceed 24:00:00')\n",
    "        elif self.end.hour == 24:\n",
    "            if self.end.minute > 0:\n",
    "                raise ValueError('Time cannot exceed 24:00:00')\n",
    "            elif self.end.minute == 0:\n",
    "                if self.end.second > 0:\n",
    "                    raise ValueError('Time cannot exceed 24:00:00')\n",
    "        self.attendees = attendees\n",
    "        self.location = location\n",
    "    def __str__(self):\n",
    "        return '%s: %s - %s, Attendees: %s, Location: %s' % (self.name, self.start, self.end, self.attendees, self.location)\n",
    "    def is_after(self):\n",
    "        if self.start.hour > self.end.hour:\n",
    "            return True\n",
    "        elif self.start.hour == self.end.hour:\n",
    "            if self.start.minute > self.end.minute:\n",
    "                return True\n",
    "            elif self.start.minute == self.end.minute:\n",
    "                if self.start.second > self.end.second:\n",
    "                    return True\n",
    "                elif t1.second == t2.second:\n",
    "                    return 'Same Time'\n",
    "        else: \n",
    "            return False\n",
    "    def duration(self):\n",
    "        if self.is_after == 'Same Time':\n",
    "            return 0\n",
    "        elif self.is_after == False:\n",
    "            raise ValueError('ending time must come after starting time')\n",
    "        elif self.is_after == True:\n",
    "            duration = Time()\n",
    "            seconds = self.end.time_to_int() - self.start.time_to_int()\n",
    "            minutes, duration.second = divmod(seconds, 60)\n",
    "            duration.hour, duration.minute = divmod(minutes, 60)\n",
    "            print duration\n",
    "        else:\n",
    "            raise ValueError('unexpected exception, scaffolding')\n",
    "\n",
    "class Date(object):\n",
    "    \"\"\"a date in mm/dd/yyyy format\n",
    "    attributes: month, day, year\n",
    "    \"\"\"\n",
    "    def __init__(self, month = 0, day = 0, year = 0):\n",
    "        self.month = month\n",
    "        self.day = day\n",
    "        self.year = year\n",
    "    def __str__(self):\n",
    "        return '%.2d/%.2d/%.4d' % (self.month, self.day, self.year)\n",
    "        \n",
    "class Agenda(object):\n",
    "    \"\"\"agenda for a single day\n",
    "    attributes: date, events\n",
    "    \"\"\"\n",
    "    def __init__(self, date = Date(), events = None):\n",
    "        self.date = date\n",
    "        if events == None:\n",
    "            events = []\n",
    "        self.events = events\n",
    "    def add_event(self, newevent):\n",
    "        if newevent not in events:\n",
    "            raise ValueError('New Event must be type(event)')\n",
    "        else:\n",
    "            newevent = print newevent\n",
    "            self.events.append(newevent)\n",
    "    def __str__(self):\n",
    "        return 'Date: %s, Events: %l' % (self.date, self.events)\n",
    "        #this will return the events in the order that you put them in the list\n",
    "        #I'm struggling with putting the events in chronological order... \n",
    "        #will ask NINJA at later date\n"
   ]
  },
  {
   "cell_type": "markdown",
   "metadata": {
    "is_question": true,
    "problem": "Exercise 4"
   },
   "source": [
    "### Going Beyond (optional)\n",
    "\n",
    "Some ideas for taking your application further:\n",
    " - Add people and/or places to the mix to create a scheduling assistant\n",
    " - Extend support for day-of-week or full date. A word of warning: dealing with dates and times in real applications is difficult due to the huge number of special cases (Perfect example: this reading journal is due on Leap Day). Consider using something like the Python [datetime](https://docs.python.org/2/library/datetime.html) module.\n",
    " - Use pickle or some other persistence strategy to save and load your `Agenda`."
   ]
  },
  {
   "cell_type": "code",
   "execution_count": null,
   "metadata": {
    "collapsed": true,
    "solution": "Exercise 4"
   },
   "outputs": [],
   "source": []
  },
  {
   "cell_type": "markdown",
   "metadata": {
    "is_poll": true,
    "is_question": true,
    "problem": "Time spent"
   },
   "source": [
    "## Quick poll\n",
    "About how long did you spend working on this Reading Journal?"
   ]
  },
  {
   "cell_type": "markdown",
   "metadata": {
    "poll_response": true,
    "solution": "Time spent"
   },
   "source": [
    "a little over an hour"
   ]
  },
  {
   "cell_type": "markdown",
   "metadata": {
    "is_question": true,
    "problem": "Feedback"
   },
   "source": [
    "## Reading Journal feedback\n",
    "\n",
    "Have any comments on this Reading Journal? Feel free to leave them below and we'll read them when you submit your journal entry. This could include suggestions to improve the exercises, topics you'd like to see covered in class next time, or other feedback.\n",
    "\n",
    "If you have Python questions or run into problems while completing the reading, you should post them to Piazza instead so you can get a quick response before your journal is submitted."
   ]
  },
  {
   "cell_type": "markdown",
   "metadata": {
    "feedback_response": true,
    "solution": "Feedback"
   },
   "source": [
    " "
   ]
  }
 ],
 "metadata": {
  "celltoolbar": "Edit Metadata",
  "kernelspec": {
   "display_name": "Python 2",
   "language": "python",
   "name": "python2"
  },
  "language_info": {
   "codemirror_mode": {
    "name": "ipython",
    "version": 2
   },
   "file_extension": ".py",
   "mimetype": "text/x-python",
   "name": "python",
   "nbconvert_exporter": "python",
   "pygments_lexer": "ipython2",
   "version": "2.7.6"
  }
 },
 "nbformat": 4,
 "nbformat_minor": 0
}

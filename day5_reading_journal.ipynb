{
 "cells": [
  {
   "cell_type": "markdown",
   "metadata": {},
   "source": [
    "# Day 5 Reading Journal\n",
    "\n",
    "This journal includes several required exercises, but it is meant to encourage active reading more generally.  You should use the journal to take detailed notes, catalog questions, and explore the content from Think Python deeply.\n",
    "\n",
    "Reading: Think Python Chapter 4\n",
    "\n",
    "**Due: Monday, February 8 at 12 noon**\n",
    "\n"
   ]
  },
  {
   "cell_type": "markdown",
   "metadata": {},
   "source": [
    "## [Chapter 4](http://www.greenteapress.com/thinkpython/html/thinkpython005.html)\n",
    "\n",
    "In today's reading, you'll be exploring TurtleWorld!\n",
    "TurtleWorld is part of the [swampy](http://www.greenteapress.com/thinkpython/swampy/) package, written by Allen Downey.\n",
    "As part of the [Get Set](https://sites.google.com/site/sd16spring/home/assignments-and-mini-projects/setup-your-environment) assignment, you installed the swampy package using the pip Python package management tool. If you somehow missed that step or you see errors when you try to import TurtleWorld, you can install swampy by running:\n",
    "\n",
    "```\n",
    "sudo pip install swampy\n",
    "```\n",
    "\n",
    "at the command line.\n",
    "4.1 Turtle World\n",
    "- swampy = package = collection of modules\n",
    "- details of installation process depend on system\n",
    "- wait_for_user() forces tutle to wait for you to do something\n",
    "- instance = member of a set in a module\n",
    "4.2 Simple repetition\n",
    "- for statements\n",
    "- loop-- flow of execution runs through the body and executes then loops back to top\n",
    "\n",
    "### Turtle wrangling\n",
    "\n",
    "You can always run your code as separate Python scripts, but here are a few tips for mixing TurtleWorld with Jupyter notebook:\n",
    "\n",
    " - TurtleWorld will appear in a new GUI window, rather than inline in the notebook like typical results do\n",
    " - You will not be able to close the TurtleWorld window unless you run `wait_for_user()` as the last line of your code.\n",
    " - Jupyter notebook works like one big Python script, even though it is broken up into sections. This means that you could create a Turtle in one cell, move it in a later cell, and then `wait_for_user()` in yet another. Despite this, it might be easier to treat each cell in this assignment as a separate script, creating a new world at the beginning and destroying it at the end of each."
   ]
  },
  {
   "cell_type": "markdown",
   "metadata": {},
   "source": [
    "### Get started\n",
    "\n",
    "Run the code in the cell below and make sure everything works. You should see brave Alice spring into the world and run forward. You can close the window when you're done by clicking on the 'X'. If this simple test doesn't work, check your swampy install (especially if you get an `ImportError`) and ask for help."
   ]
  },
  {
   "cell_type": "code",
   "execution_count": null,
   "metadata": {
    "collapsed": true
   },
   "outputs": [],
   "source": [
    "from swampy.TurtleWorld import *\n",
    "\n",
    "# Create the world, and a turtle to put in it\n",
    "world = TurtleWorld()\n",
    "alice = Turtle()\n",
    "\n",
    "# Get moving, turtle!\n",
    "fd(alice, 50)\n",
    "\n",
    "# Wait for the user to close the window\n",
    "wait_for_user()"
   ]
  },
  {
   "cell_type": "markdown",
   "metadata": {
    "is_question": true,
    "problem": "Section 4.3"
   },
   "source": [
    "### Section 4.3 exercises\n",
    "Work through exercises 1-5 in Section 4.3, creating the `square`, `polygon`, `circle`, and `arc` functions. You can reference Allen's solutions, but please try the problems on your own first."
   ]
  },
  {
   "cell_type": "code",
   "execution_count": 10,
   "metadata": {
    "collapsed": false,
    "solution": "Section 4.3"
   },
   "outputs": [],
   "source": [
    "from swampy.TurtleWorld import *\n",
    "\n",
    "world = TurtleWorld()\n",
    "t = Turtle()\n",
    "\n",
    "def square(t):\n",
    "    for i in range(4):\n",
    "        fd(t, 100)\n",
    "        lt(t)\n",
    "    wait_for_user()\n",
    "\n",
    "def bob(bob):\n",
    "    square(bob)\n",
    "    \n",
    "square(t)\n",
    "bob(t)"
   ]
  },
  {
   "cell_type": "code",
   "execution_count": 17,
   "metadata": {
    "collapsed": false
   },
   "outputs": [],
   "source": [
    "from swampy.TurtleWorld import *\n",
    "\n",
    "world = TurtleWorld()\n",
    "t = Turtle()\n",
    "\n",
    "def square(t, length):\n",
    "    for i in range(4):\n",
    "        fd(t, length)\n",
    "        lt(t)\n",
    "    \n",
    "square(t, 50)\n",
    "\n",
    "wait_for_user()"
   ]
  },
  {
   "cell_type": "code",
   "execution_count": null,
   "metadata": {
    "collapsed": true
   },
   "outputs": [],
   "source": []
  },
  {
   "cell_type": "code",
   "execution_count": 22,
   "metadata": {
    "collapsed": false
   },
   "outputs": [],
   "source": [
    "from swampy.TurtleWorld import *\n",
    "\n",
    "world = TurtleWorld()\n",
    "t = Turtle()\n",
    "\n",
    "def polygon(t, length, n):\n",
    "    for i in range(n):\n",
    "        fd(t, length)\n",
    "        lt(t, (360/n))\n",
    "        \n",
    "polygon(t, 3, 80)\n",
    "\n",
    "wait_for_user()"
   ]
  },
  {
   "cell_type": "code",
   "execution_count": 30,
   "metadata": {
    "collapsed": false
   },
   "outputs": [],
   "source": [
    "from swampy.TurtleWorld import *\n",
    "\n",
    "from math import *\n",
    "\n",
    "world = TurtleWorld()\n",
    "t = Turtle()\n",
    "\n",
    "def circle(t, r):\n",
    "    t.delay = 0.01\n",
    "    cir = 2 * pi * r\n",
    "    n = 180\n",
    "    length = (cir/n) * 10 #scalar increase in size of circle\n",
    "    polygon(t, length, n)\n",
    "    \n",
    "circle(t, 3)\n",
    "\n",
    "wait_for_user()    "
   ]
  },
  {
   "cell_type": "code",
   "execution_count": 44,
   "metadata": {
    "collapsed": false
   },
   "outputs": [],
   "source": [
    "from swampy.TurtleWorld import *\n",
    "\n",
    "from math import *\n",
    "\n",
    "world = TurtleWorld()\n",
    "t = Turtle()\n",
    "\n",
    "def arc(t, r, angle):\n",
    "    t.delay = 0.01\n",
    "    arc_length = 2 * pi * r * angle/360\n",
    "    n = int(arc_length/3) + 1\n",
    "    step_length = ((arc_length/n) * 10) #scalar increase in size of circle \n",
    "    step_angle = float(angle)/n #makes sure n takes in a float value angle\n",
    "    for i in range(n):\n",
    "        fd(t, step_length)\n",
    "        lt(t, step_angle)\n",
    "        \n",
    "#I like his regeneralization of polygon, but I don't have time to do it myself right now\n",
    "#I changed my variable names to his afterwards to make them more clear\n",
    "arc(t, 3, 45)\n",
    "\n",
    "wait_for_user()"
   ]
  },
  {
   "cell_type": "markdown",
   "metadata": {
    "is_question": true,
    "problem": "More fun"
   },
   "source": [
    "### Exercise: More fun with Turtles!\n",
    "Complete at least one of Exercise 2, 3, 4, or 5. If you come up with some cool drawings you'd like to share with the rest of the class, let us know!"
   ]
  },
  {
   "cell_type": "code",
   "execution_count": 50,
   "metadata": {
    "collapsed": false,
    "solution": "More fun"
   },
   "outputs": [],
   "source": [
    "#exercise 2\n",
    "from swampy.TurtleWorld import *\n",
    "\n",
    "import math\n",
    "\n",
    "#my computer won't download any of downey's modules... NINJA help?\n",
    "#until then instead I'm just going to copy shortened versions of his functions into this kernel so I get the same effect\n",
    "#help me out later?\n",
    "\n",
    "#from polygon import * #specific module of functions downey recommends for this exercise\n",
    "def square(t, length):\n",
    "    for i in range(4):\n",
    "        fd(t, length)\n",
    "        lt(t)\n",
    "\n",
    "\n",
    "def polyline(t, n, length, angle):\n",
    "    for i in range(n):\n",
    "        fd(t, length)\n",
    "        lt(t, angle)\n",
    "\n",
    "\n",
    "def polygon(t, n, length):\n",
    "    angle = 360.0/n\n",
    "    polyline(t, n, length, angle)\n",
    "\n",
    "\n",
    "def arc(t, r, angle):\n",
    "    arc_length = 2 * math.pi * r * abs(angle) / 360\n",
    "    n = int(arc_length / 4) + 1\n",
    "    step_length = arc_length / n\n",
    "    step_angle = float(angle) / n\n",
    "\n",
    "    # making a slight left turn before starting reduces\n",
    "    # the error caused by the linear approximation of the arc\n",
    "    lt(t, step_angle/2)\n",
    "    polyline(t, n, step_length, step_angle)\n",
    "    rt(t, step_angle/2)\n",
    "\n",
    "\n",
    "def circle(t, r):\n",
    "    arc(t, r, 360)\n",
    "\n",
    "\n",
    "world = TurtleWorld()\n",
    "t = Turtle()\n",
    "t.delay = 0.01\n",
    "\n",
    "def petal(t, r, angle):\n",
    "    for i in range(2):\n",
    "        arc(t, r, angle) #imported function from polygon\n",
    "        lt(t, 180-angle) #changes the appropriate angle size\n",
    "        \n",
    "#petal(t, 200, angle)\n",
    "\n",
    "def flower(t, n, r, angle):\n",
    "    for i in range(n):\n",
    "        petal(t, r, angle)\n",
    "        lt(t, float(360/n))\n",
    "        \n",
    "#this works fine, but bob goes off the page, so I looked at Downey's solutions and saw his move piece-- should move the turtle into a nicer place to start\n",
    "\n",
    "def move(t, length):\n",
    "    pu(t)\n",
    "    fd(t, length)\n",
    "    pd(t)\n",
    "    \n",
    "    \n",
    "#draw flower\n",
    "move(t, 100)\n",
    "flower(t, 10, 200.0, 20.0)\n",
    "#make sure to make your n value large or your flower will just be very tiny\n",
    "die(t) #morbid function that kills bob\n",
    "\n",
    "\n",
    "\n",
    "wait_for_user()\n"
   ]
  },
  {
   "cell_type": "markdown",
   "metadata": {},
   "source": [
    "## Reading Journal feedback\n",
    "\n",
    "Have any comments on this Reading Journal? Feel free to leave them below and we'll read them when you submit your journal entry. This could include suggestions to improve the exercises, topics you'd like to see covered in class next time, or other feedback.\n",
    "\n",
    "If you have Python questions or run into problems while completing the reading, you should post them to Piazza instead so you can get a quick response before your journal is submitted."
   ]
  },
  {
   "cell_type": "markdown",
   "metadata": {},
   "source": [
    " "
   ]
  }
 ],
 "metadata": {
  "kernelspec": {
   "display_name": "Python 2",
   "language": "python",
   "name": "python2"
  },
  "language_info": {
   "codemirror_mode": {
    "name": "ipython",
    "version": 2
   },
   "file_extension": ".py",
   "mimetype": "text/x-python",
   "name": "python",
   "nbconvert_exporter": "python",
   "pygments_lexer": "ipython2",
   "version": "2.7.6"
  }
 },
 "nbformat": 4,
 "nbformat_minor": 0
}

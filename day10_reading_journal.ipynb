{
 "cells": [
  {
   "cell_type": "markdown",
   "metadata": {},
   "source": [
    "# Day 10 Reading Journal\n",
    "\n",
    "This journal includes several required exercises, but it is meant to encourage active reading more generally.  You should use the journal to take detailed notes, catalog questions, and explore the content from Think Python deeply.\n",
    "\n",
    "Reading: Think Python Chapter 16, 17\n",
    "\n",
    "**Due: Thursday, February 25 at 12 noon**\n",
    "\n"
   ]
  },
  {
   "cell_type": "markdown",
   "metadata": {},
   "source": [
    "## [Chapter 16](http://www.greenteapress.com/thinkpython/html/thinkpython017.html)\n",
    "\n",
    "16.1 Time\n",
    "- class called Time that records the time of day\n",
    "    class Time(object):\n",
    "        \"\"\"Represent the time of day.\n",
    "        attributes: hour, minute, second\n",
    "        \"\"\"\n",
    "- create a new Time object and assign attributes for hours, minutes and seconds\n",
    "\n",
    "16.2 Pure Functions\n",
    "- pure functios = does not modify any of the objects passed to it as arguments and has no effect other than returning a value\n",
    "- prototype & patch = way of tackling complex problem w/ single prototype and incrementally dealing with complications\n",
    "\n",
    "16.3 Modifiers\n",
    "- modifiers = functions that modify objects it gets as parameters\n",
    "- writing pure functions whenever it is reasonable and resorting to modifiers only if there is a compelling advantage = functional programming style\n",
    "\n",
    "16.4 prototyping vs. Planning\n",
    "- prototype and patch: write prototype that perfoms basic calc then tested, patching errors along way\n",
    "- effective approach if you dont have good understanding of problem\n",
    "- planned develpment: high level insight into problem can make programming much easier\n",
    "- planned development makes adding features later easier\n",
    "- making a problem harder (more general) makes it easier because their are fewer special cases and fewer opportunities for error"
   ]
  },
  {
   "cell_type": "markdown",
   "metadata": {
    "is_question": true,
    "problem": "Exercise 16.2"
   },
   "source": [
    "### Exercise 2  \n",
    "\n",
    "Write a boolean function called `is_after` that takes two `Time` objects, `t1` and `t2`, and returns `True` if `t1` follows `t2` chronologically and `False` otherwise. Challenge: don’t use an `if` statement. "
   ]
  },
  {
   "cell_type": "code",
   "execution_count": 7,
   "metadata": {
    "collapsed": false,
    "solution": "Exercise 16.2"
   },
   "outputs": [
    {
     "data": {
      "text/plain": [
       "False"
      ]
     },
     "execution_count": 7,
     "metadata": {},
     "output_type": "execute_result"
    }
   ],
   "source": [
    "class Time(object):\n",
    "    \"\"\"represents time of day\n",
    "    attributes: hour, minute, second\n",
    "    \"\"\"\n",
    "time1 = Time()\n",
    "time1.hour = 11\n",
    "time1.minute = 49\n",
    "time1.second = 30\n",
    "\n",
    "time2 = Time()\n",
    "time2.hour = 2\n",
    "time2.minute = 30\n",
    "time2.second = 29\n",
    "\n",
    "def is_after(t1, t2):\n",
    "    \"\"\"takes in two times, t1 and t2 \n",
    "    returns true if t1 follows t2 chronologically\n",
    "    returns false if t1 does not follow t2 chronologically\n",
    "    returns 'same time' if t1 and t2 are equal\n",
    "    returns 'this is not a valid time if t1 or t2 are over 24.00.00\n",
    "    times must be in military time HH.MM.SS where HH can go from 1-24\n",
    "    \"\"\"\n",
    "    if t1.hour > 24:\n",
    "        return 'This is not a valid time'\n",
    "    elif t1.hour >= 24:\n",
    "        if t1.minute > 0:\n",
    "            return 'This is not a valid time'\n",
    "        elif t1.minute == 0:\n",
    "            if t1.second > 0:\n",
    "                return 'This is not a valid time'\n",
    "    if t2.hour >24:\n",
    "        return 'This is not a valid time'\n",
    "    elif t2.hour == 24:\n",
    "        if t2.minute > 0:\n",
    "            return 'This is not a valid time'\n",
    "        elif t2.minute == 0:\n",
    "            if t2.second > 0:\n",
    "                return 'This is not a valid time'\n",
    "    elif t1.hour > t2.hour:\n",
    "        return True\n",
    "    elif t1.hour == t2.hour:\n",
    "        if t1.minute > t2.minute:\n",
    "            return True\n",
    "        elif t1.minute == t2.minute:\n",
    "            if t1.second > t2.second:\n",
    "                return True\n",
    "            elif t1.second == t2.second:\n",
    "                return 'Same Time'\n",
    "    else: \n",
    "        return False\n",
    "\n",
    "is_after(time1, time1)\n",
    "#this works but I don't have time to do doctests\n",
    "#nor do I have time to make it recursive\n",
    "#which is what I would do if I were going to do this without an if statement"
   ]
  },
  {
   "cell_type": "markdown",
   "metadata": {},
   "source": [
    "## [Chapter 17](http://www.greenteapress.com/thinkpython/html/thinkpython018.html)\n",
    "\n",
    "In chapter 17 we finally have the tools to really put user-defined classes to work! In the exercises for this reading journal, we'll go back and add methods to your `Point` class from Chapter 15 to make it a lot easier to use.\n",
    "\n",
    "17.1 Object-oriented features:\n",
    "- object oriented programming languag-- provides features that support object oriented programming\n",
    "- programs are made up of object definitions and function definitions and most of the computation is expressed in terms of operations on objects\n",
    "- each object definition corresponds to some object or concept in the real world and the functions that operate on that object correspond to the ways real-world objects interact\n",
    "- methods: a function that is associated with a particular class\n",
    "- 2 syntactic differences between methods and functions\n",
    "    - defined inside a class definition in order to make the relationship between the class and the method explicit\n",
    "    - syntax for invoking a method is different than the syntax for calling a function\n",
    "\n",
    "17.2 Printing objects\n",
    "    def print_time(time):\n",
    "        print '%.2d:%.2d:%.2d' % (time.hour, time.minute, time.second)\n",
    "- to call print time, define a time object and pass it as an argument\n",
    "- make print time a method: move function definition inside object definition\n",
    "    class Time(object):\n",
    "        def print_time(self):\n",
    "        print '%.2d:%.2d:%.2d' % (time.hour, time.minute, time.second)\n",
    "- 2 ways to call print_time\n",
    "    - function syntax time.print_time(start)\n",
    "    - method syntax start.print_time()\n",
    "- subject = thing before dot that method is being invoked on\n",
    "- convention = first parameter of a method is called self\n",
    "    - syntax for a cunction call suggests function is active\n",
    "    - objects are the active agents, method is not\n",
    "\n",
    "17.3 Another example\n",
    "    class Time(object):\n",
    "        def print_time(self):\n",
    "            print '%.2d:%.2d:%.2d' % (time.hour, time.minute, time.second)\n",
    "        def time_to_int(self):\n",
    "            minutes = time.hour*60 +time.minute\n",
    "            seconds = miniutes*60 + time.second\n",
    "            return seconds\n",
    "        def increment(self, seconds):\n",
    "            seconds += self.time_to_int()\n",
    "            return int_to_time(seconds)\n",
    "- time to int is function from 16.4 rewritten as method\n",
    "- this method is a pure fnction not a modifier-- better this way?\n",
    "- invoke increment:\n",
    "    start.print_time()\n",
    "    9:45:00\n",
    "    end = start.increment(1337)\n",
    "    end.print_time()\n",
    "    10:07:17\n",
    "- start gets assigned to self and 1337 gets assigned to second argument, seconds\n",
    "- subject is always considered an argument\n",
    "\n",
    "17.4 A more complicated example\n",
    "    #inside class Time\n",
    "    def is_after(self, other):\n",
    "        return self.time_to_int() > other.time_to_int()\n",
    "- to use this method you have to invoke it on one object and pass the other as an argument\n",
    "    end.is_after(start)\n",
    "    True\n",
    "    \n",
    "17.5 The init method\n",
    "- init = short for initialization= special method that gets invoked when an object is instantiated \n",
    "    def __init__(self, hour=0, minute=0, second=0):\n",
    "        self.hour = hour\n",
    "        self.minute = minute\n",
    "        sef.second = second\n",
    "- parameters of init often have same names as attributes\n",
    "- parameters are optional, but you can put them in as time. hour, time.min, and time.sec\n",
    "    time = time()\n",
    "    time.print_time()\n",
    "    time = 00.00.00\n",
    "    time = Time(9,4, 6)\n",
    "    time.print_time()\n",
    "    time = 09:04:06\n",
    "\n",
    "17.6 the str method\n",
    "- __str__ is a special method that returns a string representation of an object\n",
    "    def __str__(self:\n",
    "        return '%.2d:%.2d:%.2d' % (self.hour, self.minute. self.second)\n",
    "- when you use str for time\n",
    "    time = Time(9, 45)\n",
    "    print time\n",
    "    09:45:00\n",
    "- when you write a new object, start by writing init and str\n",
    "\n",
    "17.7 Operator overloading\n",
    "- specify behavior of operators on user defined types\n",
    "- ex: method __add__ means you can use + operator on type\n",
    "    def __add__(self, other):\n",
    "        seconds = self.time_to_int() + other.time_to_int()\n",
    "        return int_to_time(seconds\n",
    "    start = Time(9, 45)\n",
    "    duration = Time(1, 35(\n",
    "    print start + duration\n",
    "    #this assumes that time_to_int() and int_to_time() are methods previously defined in object\n",
    "- changing behavior of operator to work with use defined types is called operator overloading.\n",
    "- for every operator in python there is a corresponiding secial method\n",
    "\n",
    "17.8 Type-based dispatch\n",
    "- add an integer to a time object\n",
    "    def __add__(self, other):\n",
    "        if isinstance(other, Time):\n",
    "            return self.add_time(other)\n",
    "        else:\n",
    "            reurn self.increment(other)\n",
    "    def add_time(self, other):\n",
    "        seconds = self.time_to_int() + other.time_to_int()\n",
    "        return int_to_time(seconds)\n",
    "    def increment(self, seconds):\n",
    "        seconds += self.time_to_int()\n",
    "        return int_to_time(seconds)\n",
    "#assumes int_to_time and time_to_int are already defined\n",
    "- type based dispatch = dispatches computation to different methods based on the type of the arguments\n",
    "- method of addition is not commutative\n",
    "\n",
    "17.9 Polymorphism\n",
    "- type based dispatch not always necessary-- write functions that work correctly for arguments with different types\n",
    "- functions for strings will work with any kind of sequence\n",
    "- histogram works for lists, tuples, and dictionaries\n",
    "- functions that work with several types == polymorphic\n",
    "- polymorphism can facilitate code reuse\n",
    "- if all the operations inside a function work with a given type then the function works with that type"
   ]
  },
  {
   "cell_type": "code",
   "execution_count": null,
   "metadata": {
    "collapsed": true
   },
   "outputs": [],
   "source": []
  },
  {
   "cell_type": "raw",
   "metadata": {
    "is_question": true,
    "problem": "Exercise 17.2"
   },
   "source": [
    "### Exercise 2  \n",
    "\n",
    "Write an init method for the `Point` class that takes `x` and `y` as optional parameters and assigns them to the corresponding attributes. "
   ]
  },
  {
   "cell_type": "code",
   "execution_count": 8,
   "metadata": {
    "collapsed": false,
    "solution": "Exercise 17.2"
   },
   "outputs": [
    {
     "name": "stdout",
     "output_type": "stream",
     "text": [
      "(3, 4)\n"
     ]
    }
   ],
   "source": [
    "class Point(object):\n",
    "    def __init__(self, x=0.0, y=0.0):\n",
    "        self.x = x\n",
    "        self.y = y\n",
    "\n",
    "point = Point(3, 4)\n"
   ]
  },
  {
   "cell_type": "markdown",
   "metadata": {
    "is_question": true,
    "problem": "Exercise 17.3"
   },
   "source": [
    "### Exercise 3  \n",
    "\n",
    "Write a str method for the `Point` class. Create a `Point` object and print it."
   ]
  },
  {
   "cell_type": "code",
   "execution_count": 10,
   "metadata": {
    "collapsed": false,
    "solution": "Exercise 17.3"
   },
   "outputs": [
    {
     "name": "stdout",
     "output_type": "stream",
     "text": [
      "(3, 4)\n"
     ]
    },
    {
     "ename": "TypeError",
     "evalue": "__str__ returned non-string (type NoneType)",
     "output_type": "error",
     "traceback": [
      "\u001b[1;31m---------------------------------------------------------------------------\u001b[0m",
      "\u001b[1;31mTypeError\u001b[0m                                 Traceback (most recent call last)",
      "\u001b[1;32m<ipython-input-10-3f6a1f0e89fa>\u001b[0m in \u001b[0;36m<module>\u001b[1;34m()\u001b[0m\n\u001b[0;32m      7\u001b[0m \u001b[1;33m\u001b[0m\u001b[0m\n\u001b[0;32m      8\u001b[0m \u001b[0mpoint\u001b[0m \u001b[1;33m=\u001b[0m \u001b[0mPoint\u001b[0m\u001b[1;33m(\u001b[0m\u001b[1;36m3\u001b[0m\u001b[1;33m,\u001b[0m \u001b[1;36m4\u001b[0m\u001b[1;33m)\u001b[0m\u001b[1;33m\u001b[0m\u001b[0m\n\u001b[1;32m----> 9\u001b[1;33m \u001b[1;32mprint\u001b[0m \u001b[0mpoint\u001b[0m\u001b[1;33m\u001b[0m\u001b[0m\n\u001b[0m",
      "\u001b[1;31mTypeError\u001b[0m: __str__ returned non-string (type NoneType)"
     ]
    }
   ],
   "source": [
    "class Point(object):\n",
    "    def __init__(self, x=0.0, y=0.0):\n",
    "        self.x = x\n",
    "        self.y = y\n",
    "    def __str__(self):\n",
    "        print '(%g, %g)' % (self.x, self.y)\n",
    "\n",
    "point = Point(3, 4)\n",
    "print point\n",
    "\n",
    "#I'm getting an error with Nonetype where __str__ returned a nonstring, why??\n",
    "#if I change the definition from __str__ to Print_point it doesn't do that"
   ]
  },
  {
   "cell_type": "markdown",
   "metadata": {
    "is_question": true,
    "problem": "Exercise 17.4"
   },
   "source": [
    "### Exercise 4  \n",
    "\n",
    "Write an add method for the `Point` class. Optional: implement operator overloading so that you can use the '+' operator."
   ]
  },
  {
   "cell_type": "code",
   "execution_count": 15,
   "metadata": {
    "collapsed": false,
    "solution": "Exercise 17.4"
   },
   "outputs": [
    {
     "name": "stdout",
     "output_type": "stream",
     "text": [
      "(7, 9)\n"
     ]
    }
   ],
   "source": [
    "class Point(object):\n",
    "    def __init__(self, x=0.0, y=0.0):\n",
    "        self.x = x\n",
    "        self.y = y\n",
    "    def print_point(self):\n",
    "        print '(%g, %g)' % (self.x, self.y)\n",
    "    def __add__(self, other):\n",
    "        self.x += other.x\n",
    "        self.y += other.y\n",
    "        return self\n",
    "    \n",
    "point1 = Point(3, 4)\n",
    "point2 = Point(4, 5)\n",
    "\n",
    "point3 = point1 + point2\n",
    "point3.print_point()"
   ]
  },
  {
   "cell_type": "markdown",
   "metadata": {
    "is_question": true,
    "problem": "Exercise 17.7"
   },
   "source": [
    "### Exercise 7  \n",
    "\n",
    "This exercise is a cautionary tale about one of the most common, and difficult to find, errors in Python. Write a definition for a class named `Kangaroo` with the following methods:\n",
    "\n",
    " 1. An `__init__` method that initializes an attribute named `pouch_contents` to an empty list.\n",
    " 2. A method named `put_in_pouch` that takes an object of any type and adds it to `pouch_contents`.\n",
    " 3. A `__str__` method that returns a string representation of the `Kangaroo` object and the contents of the pouch.\n",
    "\n",
    "Test your code by creating two `Kangaroo` objects, assigning them to variables named `kanga` and `roo`, and then adding `roo` to the contents of `kanga`’s pouch.\n",
    "\n",
    "Download http://thinkpython.com/code/BadKangaroo.py. It contains a solution to the previous problem with one big, nasty bug. Find and fix the bug.\n",
    "\n",
    "If you get stuck, you can download http://thinkpython.com/code/GoodKangaroo.py, which explains the problem and demonstrates a solution. "
   ]
  },
  {
   "cell_type": "code",
   "execution_count": null,
   "metadata": {
    "collapsed": true,
    "solution": "Exercise 17.7"
   },
   "outputs": [],
   "source": [
    "class Kangaroo(object):\n",
    "    def __init__(self, pouch_contents = None):\n",
    "        if pouch_contents == None:\n",
    "            pouch_contents = []\n",
    "        self.pouch_contents = pouch_contents\n",
    "    def __str__(self):\n",
    "        t = [ object.__str__(self) + ' with pouch contents:' ]\n",
    "        for obj in self.pouch_contents:\n",
    "            s = '    ' + object.__str__(obj)\n",
    "            t.append(s)\n",
    "        return '\\n'.join(t)\n",
    "        #this took me a while to figure out, but I'm pretty sure I understand the contents\n",
    "    def put_in_pouch(self, object):\n",
    "        self.pouch_contents.append(object)"
   ]
  },
  {
   "cell_type": "markdown",
   "metadata": {
    "is_question": true,
    "problem": "Time spent"
   },
   "source": [
    "## Quick poll\n",
    "About how long did you spend working on this Reading Journal?"
   ]
  },
  {
   "cell_type": "markdown",
   "metadata": {
    "poll_response": true,
    "solution": "Time spent"
   },
   "source": [
    " this one took me longer, about an hour and a half"
   ]
  },
  {
   "cell_type": "markdown",
   "metadata": {
    "is_question": true,
    "problem": "Feedback"
   },
   "source": [
    "## Reading Journal feedback\n",
    "\n",
    "Have any comments on this Reading Journal? Feel free to leave them below and we'll read them when you submit your journal entry. This could include suggestions to improve the exercises, topics you'd like to see covered in class next time, or other feedback.\n",
    "\n",
    "If you have Python questions or run into problems while completing the reading, you should post them to Piazza instead so you can get a quick response before your journal is submitted."
   ]
  },
  {
   "cell_type": "markdown",
   "metadata": {
    "feedback_response": true,
    "solution": "Feedback"
   },
   "source": [
    "be clearer about the notebook in class-- I wouldn't have found or done this had I not done an arbitrary check to make sure I was all caught up.  About half the class that I talked to didn't know there was a reading journal due today.  It also doesn't help that github didn't update the reading journal git until after dinner today.  "
   ]
  }
 ],
 "metadata": {
  "celltoolbar": "Edit Metadata",
  "kernelspec": {
   "display_name": "Python 2",
   "language": "python",
   "name": "python2"
  },
  "language_info": {
   "codemirror_mode": {
    "name": "ipython",
    "version": 2
   },
   "file_extension": ".py",
   "mimetype": "text/x-python",
   "name": "python",
   "nbconvert_exporter": "python",
   "pygments_lexer": "ipython2",
   "version": "2.7.6"
  }
 },
 "nbformat": 4,
 "nbformat_minor": 0
}

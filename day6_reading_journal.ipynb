{
 "cells": [
  {
   "cell_type": "markdown",
   "metadata": {},
   "source": [
    "# Day 6 Reading Journal\n",
    "\n",
    "This journal includes several required exercises, but it is meant to encourage active reading more generally.  You should use the journal to take detailed notes, catalog questions, and explore the content from Think Python deeply.\n",
    "\n",
    "Reading: Think Python Chapter 5.8-5.14, 6.5-6.11\n",
    "\n",
    "**Due: Thursday, February 11 at 12 noon**\n",
    "\n"
   ]
  },
  {
   "cell_type": "markdown",
   "metadata": {},
   "source": [
    "## [Chapter 5.8 - 5.14](http://www.greenteapress.com/thinkpython/html/thinkpython006.html)\n",
    "\n",
    "[Python Tutor](http://pythontutor.com/) can be helpful for visualizing stack diagrams, including for recursive execution.\n",
    "\n",
    "Chapter 5 leads into Chapter 6, and all the required exercises for this reading are in the Chapter 6 section.\n",
    "\n",
    "5.8 Recursion\n",
    "- legal for one function to call another, also legal for function to call itself\n",
    "- a function that calls itself is recursive; process is called recursion\n",
    "- return statement is important\n",
    "- for loops easier than while loops\n",
    "- infinite loop is most common bug\n",
    "\n",
    "5.9 Stack Diagrams for recursive functions\n",
    "- every time a function gets called, python creates a new function fram, which contains the functions local var/params\n",
    "- for a recursive function, multiple frames may exist on the stack at the same time\n",
    "- bottom of stack is called base case-- does not make recursive call = no more frames\n",
    "- top of stack is __main__-- empty, no arguments/vars passed\n",
    "\n",
    "5.10 Infinite Recursion\n",
    "- if recursion never reaches base case, it goes on forever, program never terminates on its own\n",
    "- called infinite recursion-- never a good idea\n",
    "- python will report an error message when the maximum recursion depth is reached\n",
    "\n",
    "5.11 Keyboard input\n",
    "- thus far, programs written accept no input from user\n",
    "- built in function raw_input-- gets input from keyboard\n",
    "- program stops and waits for user to type something\n",
    "- user presses return/enter, program resumes and raw_input returns what user typed as a string\n",
    "- print a prompt telling the user what to input. raw_input can take a prompt as an argument\n",
    "    >>>> name = raw_input('What.... is your name?\\n')\n",
    "    What.... is your name?\n",
    "    Arthur, King of the Britons!\n",
    "    >>>> print name\n",
    "    Arthur, King of the Britons!\n",
    "- \\n represents newline-- causes line break\n",
    "- you can convert return value to int, unless user types something other than a string of digits\n"
   ]
  },
  {
   "cell_type": "markdown",
   "metadata": {},
   "source": [
    "## [Chapter 6.5 - 6.11](http://www.greenteapress.com/thinkpython/html/thinkpython007.html)\n",
    "\n",
    "6.5 More recursion\n",
    "- any program ever written could be rewritten using simple language features\n",
    "- recursive definition contains a reference to the thing being defined\n",
    "- if you can write a recursive definition of something, you can write a python program to evaluate it\n",
    "- decide what parameters should be & write recursive function\n",
    "\n",
    "6.6 Leap of Faith\n",
    "- leap of faith-- assume that the function works correctly and returns correct result-- ex. built in functions\n",
    "- true when you call your own functions\n",
    "- true of recursive programs-- instead of following flow of execution, you should assume that the recursive call works\n",
    "- bit strange to assume that function works correctly when you haven't finished writing it-- do it anyway\n",
    "\n",
    "6.7 One more example\n",
    "- the fibonacci sequence = recursive also = a headache\n",
    "\n",
    "6.8 Checking Types\n",
    "- make sure that your type will work for the recursive function ('', [], float, int, none, etc.)\n",
    "- if not correct, you can try to generalize your recursive function to take in multiple types, OR you can check that the type is correct in the function before running.\n",
    "- isinstance(thing, type)-- checks to see if, in this instance, the thing argument is of the type specified\n",
    "- program pattern w/ lot of checks = guardian-- first conditions protect later code from values that cause errors"
   ]
  },
  {
   "cell_type": "markdown",
   "metadata": {
    "is_question": true,
    "problem": "Exercise 6.4"
   },
   "source": [
    "### Exercise 4  \n",
    "\n",
    "Draw a stack diagram for the following program. What does the program print? \n",
    "\n",
    "You can do this on paper, using [Python Tutor](http://pythontutor.com/), or with [Lumpy](http://www.greenteapress.com/thinkpython/swampy/) as used in [Allen's solution](http://thinkpython.com/code/stack_diagram.py)."
   ]
  },
  {
   "cell_type": "code",
   "execution_count": null,
   "metadata": {
    "collapsed": false,
    "solution": "Exercise 6.4"
   },
   "outputs": [],
   "source": [
    "def b(z):\n",
    "    prod = a(z, z)\n",
    "    print z, prod\n",
    "    return prod\n",
    "\n",
    "def a(x, y):\n",
    "    x = x + 1\n",
    "    return x * y\n",
    "\n",
    "def c(x, y, z):\n",
    "    total = x + y + z\n",
    "    square = b(total)**2\n",
    "    return square\n",
    "\n",
    "x = 1\n",
    "y = x + 1\n",
    "print c(x, y+3, x+y)\n",
    "\n",
    "#I visualized it using python tutor\n",
    "#frame 1 = global frame has a function b that takes in z, and a function a that takes in x and y, and a function c that takes in x, y, and z\n",
    "#global frame assigns x = 1\n",
    "#global frame assigns y = 2\n",
    "#fram2 = frame c assigns x = 1, y = 5, z = 3, and total = 9\n",
    "#fram3 = frame b assigns z = 9\n",
    "#fram4 = frame a assigns x = 9, y = 9\n",
    "#frame a reassigns x = 10, returns value 90, disappears\n",
    "#frame b returns prod value 90, returns value 90, disappears\n",
    "#frame c returns square 8100, returns value 8100, disappears\n"
   ]
  },
  {
   "cell_type": "markdown",
   "metadata": {
    "is_question": true,
    "problem": "Exercise 6.6"
   },
   "source": [
    "### Exercise 6  \n",
    "\n",
    "A palindrome is a word that is spelled the same backward and forward, like “noon” and “redivider”. Recursively, a word is a palindrome if the first and last letters are the same and the middle is a palindrome.\n",
    "\n",
    "You can use the `first`, `last`, and `middle` helper functions defined in Think Python, or do the string slices inside your function directly. Be sure to think about your base cases.\n",
    "    \n",
    "Write a function called `is_palindrome` that takes a string argument and returns `True` if it is a palindrome and `False` otherwise. Remember that you can use the built-in function `len` to check the length of a string.\n",
    "\n",
    "Write some unit tests for your function (optionally using doctest) to show that it works as intended."
   ]
  },
  {
   "cell_type": "code",
   "execution_count": 27,
   "metadata": {
    "collapsed": false,
    "solution": "Exercise 6.6"
   },
   "outputs": [
    {
     "data": {
      "text/plain": [
       "True"
      ]
     },
     "execution_count": 27,
     "metadata": {},
     "output_type": "execute_result"
    }
   ],
   "source": [
    "def first(word):\n",
    "    return word[0]\n",
    "\n",
    "def last(word):\n",
    "    return word[-1]\n",
    "\n",
    "def middle(word):\n",
    "    return word[1:-1]\n",
    "\n",
    "def palindrome(a):\n",
    "    \"\"\"\n",
    "    Returns Boolean assignment True or False to determine if word is palindrome.\n",
    "    \n",
    "    >>> palindrome('DogGOD')\n",
    "    True\n",
    "    >>> palindrome('RACE car')\n",
    "    True\n",
    "    >>> palindrome('allen')\n",
    "    False\n",
    "    >>> palindrome('PAul ruvOLo')\n",
    "    False\n",
    "    >>> palindrome('stanley YELnats')\n",
    "    True\n",
    "    \"\"\"\n",
    "    a = a.lower() #converts all characters in a to lowercase\n",
    "    a = a.rstrip() #strips all spaces from a\n",
    "    if len(a) <= 1:\n",
    "        return True\n",
    "    elif first(a) != last(a):\n",
    "        return False\n",
    "    return palindrome(middle(a))\n",
    "\n",
    "if __name__ == \"__main__\":\n",
    "    import doctest\n",
    "    doctest.testmod()\n",
    "#what do you know, it works\n",
    "#fun with palindromes\n",
    "palindrome('Borrow or Rob') #a moral dilemma\n",
    "palindrome('Murder for a jar of red rum') #creepiest childhood game\n",
    "palindrome('Yo Banana Boy') #it's Gabe\n",
    "palindrome('satan oscillate my metallic sonatas') #that's unfortunate\n",
    "palindrome('SolO GIGOLOS') #I am having altogether to much fun with this\n",
    "palindrome('dammit Im mad')#lol not really but I bet whoever's reading this is"
   ]
  },
  {
   "cell_type": "markdown",
   "metadata": {
    "is_question": true,
    "problem": "Exercise 6.6 challenge"
   },
   "source": [
    "### Challenge (optional)\n",
    "\n",
    "Use the word list from [Chapter 9.1](http://www.greenteapress.com/thinkpython/html/thinkpython010.html) Exercise 1 to find all of the palindromes."
   ]
  },
  {
   "cell_type": "code",
   "execution_count": null,
   "metadata": {
    "collapsed": true,
    "solution": "Exercise 6.6 challenge"
   },
   "outputs": [],
   "source": []
  },
  {
   "cell_type": "markdown",
   "metadata": {
    "is_question": true,
    "problem": "Exercise 6.7"
   },
   "source": [
    "### Exercise 7  \n",
    "\n",
    "A number `a` is a power of `b` if it is divisible by `b` and `a/b` is a power of `b`. Write a function called `is_power` that takes parameters `a` and `b` and returns `True` if `a` is a power of `b`. Note: you will have to think about the base case."
   ]
  },
  {
   "cell_type": "code",
   "execution_count": 16,
   "metadata": {
    "collapsed": false,
    "solution": "Exercise 6.7"
   },
   "outputs": [
    {
     "data": {
      "text/plain": [
       "True"
      ]
     },
     "execution_count": 16,
     "metadata": {},
     "output_type": "execute_result"
    }
   ],
   "source": [
    "def is_power(a, b):\n",
    "    if a%b != 0:\n",
    "        return False\n",
    "    else:\n",
    "        return True\n",
    "    c = a/b\n",
    "    return is_power(c, b)\n",
    "\n",
    "    \n",
    "    \n",
    "is_power(9, 3)"
   ]
  },
  {
   "cell_type": "code",
   "execution_count": 2,
   "metadata": {
    "collapsed": true
   },
   "outputs": [],
   "source": []
  },
  {
   "cell_type": "markdown",
   "metadata": {
    "is_question": true,
    "problem": "Exercise 6.8"
   },
   "source": [
    "### Challenge (optional) - Exercise 8  \n",
    "\n",
    "The greatest common divisor (GCD) of `a` and `b` is the largest number that divides both of them with no remainder.\n",
    "\n",
    "One way to find the GCD of two numbers is based on the observation that if `r` is the remainder when `a` is divided by `b`, then `gcd(a, b) = gcd(b, r)`. As a base case, we can use `gcd(a, 0) = a`.\n",
    "\n",
    "Write a function called `gcd` that takes parameters `a` and `b` and returns their greatest common divisor."
   ]
  },
  {
   "cell_type": "code",
   "execution_count": null,
   "metadata": {
    "collapsed": true,
    "problem": "Exercise 6.8"
   },
   "outputs": [],
   "source": []
  },
  {
   "cell_type": "markdown",
   "metadata": {},
   "source": [
    "## Reading Journal feedback\n",
    "\n",
    "Have any comments on this Reading Journal? Feel free to leave them below and we'll read them when you submit your journal entry. This could include suggestions to improve the exercises, topics you'd like to see covered in class next time, or other feedback.\n",
    "\n",
    "If you have Python questions or run into problems while completing the reading, you should post them to Piazza instead so you can get a quick response before your journal is submitted."
   ]
  },
  {
   "cell_type": "markdown",
   "metadata": {
    "feedback_response": true
   },
   "source": [
    " "
   ]
  }
 ],
 "metadata": {
  "kernelspec": {
   "display_name": "Python 2",
   "language": "python",
   "name": "python2"
  },
  "language_info": {
   "codemirror_mode": {
    "name": "ipython",
    "version": 2
   },
   "file_extension": ".py",
   "mimetype": "text/x-python",
   "name": "python",
   "nbconvert_exporter": "python",
   "pygments_lexer": "ipython2",
   "version": "2.7.6"
  }
 },
 "nbformat": 4,
 "nbformat_minor": 0
}

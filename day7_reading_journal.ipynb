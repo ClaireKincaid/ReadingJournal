{
 "cells": [
  {
   "cell_type": "markdown",
   "metadata": {},
   "source": [
    "# Day 7 Reading Journal\n",
    "\n",
    "This journal includes several required exercises, but it is meant to encourage active reading more generally.  You should use the journal to take detailed notes, catalog questions, and explore the content from Think Python deeply.\n",
    "\n",
    "Reading: Think Python Chapter 11, 12\n",
    "\n",
    "**Due: Thursday, February 18 at 12 noon**\n",
    "\n"
   ]
  },
  {
   "cell_type": "markdown",
   "metadata": {},
   "source": [
    "## [Chapter 11](http://www.greenteapress.com/thinkpython/html/thinkpython012.html)\n",
    "\n",
    "DICTIONARIES\n",
    "- a dictionary is a list, but more general-- in a dictionary the indices can be almost any type\n",
    "- dictionary = mapping between a set of keys (indices) and a set of values.\n",
    "    - each key maps to a value\n",
    "    - association of a key and value = key-value pair or item\n",
    "- dict() creates new diectionary with no items\n",
    "- {} represent and empty dictionary\n",
    "- to add items to a dictionary, use square brackets\n",
    "    eng2sp = dict()\n",
    "    print eng2sp\n",
    "    {}\n",
    "    eng2sp['one'] = 'uno'\n",
    "    print eng2sp\n",
    "    {'one':'uno\"}\n",
    "- output format is also an input format\n",
    "- 'one' is the index, 'uno' is the value, they form a key-value pair or item\n",
    "- order of items in a dictionary is unpredictable, but does not matter.  elements of dictionary are not indexed with integers-- use keys to look up corresponding values\n",
    "- if a key isn't in the dictionary, you get exception = KeyError\n",
    "- the in operator when used with dictionaries tells you whether something appears as a key in the dictionar (not as value)\n",
    "    'one' in eng2sp\n",
    "    True\n",
    "    'uno' in eng2sp\n",
    "    False\n",
    "- hashtable- py algorithm where in algorithm takes same amount of time no matter how many items there are in the dictionary\n",
    "- also use 'values()' method to determine if a value is in a dictionary-- values returns the values as a list, then use in\n",
    "\n",
    "11.1 Dictionary as a set of counters\n",
    "- given a string and want to count how many times each letter appears-- 3 possibilities\n",
    "    1.) create 26 variables, traverse string and for each character, increment the corresponding counter using chained conditional\n",
    "    2.) create list with 26 elements then convert each character into a number using ord(), using the number as an index into the list and increment the appropriate couter\n",
    "    3.) create a dictionary with characters as keys and counters as values.  First time you see a character, you add that item to the dictionary, after that you increment value of existing item\n",
    "- implementation: way of perofrming a computation\n",
    "- dictionary implementation means we don't have to know ahead of time letters in the string, only have to make room for letters that appear\n",
    "\n",
    "11.2 Looping and dictionaries\n",
    "- if you use the a dictionary in a for statement it traverses keys in dictionary\n",
    "- keys appear in no particular order (but you can make them if you want to)\n",
    "\n",
    "11.3 Reverse lookup\n",
    "- finding the value for a given key in a dictionary= lookup\n",
    "- there is no simple syntax for a reverse lookup, you have to search\n",
    "    def reverse_lookup(d,v):\n",
    "        for k in d:\n",
    "            if d[k] ==v:\n",
    "                return k\n",
    "        raise ValueError('this value does not appear in the dictionary')\n",
    "- function = search pattern with raise\n",
    "- raise statement causes an exception-- in this case a Value Error which generally indicates that there is something wrong with the value of the parameter-- using value error causes the function, if unsuccessful to use a traceback error message\n",
    "-raise statement takes optional detailed error message as a string that will return with error \n",
    "\n",
    "11.4 Dictionaries and Lists\n",
    "- lists can appear as values in a dictionary\n",
    "- invert histogram: maps frequencies to letters\n",
    "def invert_dict(d):\n",
    "    inverse = dict()\n",
    "    for key in d:\n",
    "        val d[key]\n",
    "        if val not in inverse:\n",
    "            inverse[val] = [key]\n",
    "        else:\n",
    "            inverse[val].append(key)\n",
    "    return inverse\n",
    "- each time throug loop key gets a key from d and val gets corresponding val\n",
    "- if val is not in inverse, then we haven't seen it vefore so we create a new item and initialize it with \"singleton: list that cointains a single element\"\n",
    "- otherwise we append the corresponding key to the list\n",
    "- hash = function that takes a value and returns an integer\n",
    "- dictionaries use hash values to store and look up key-valule pairs\n",
    "- works fine if keys are immutable-- KEYS CANNOT BE MUTABLE\n",
    "- keys must be hashable-- mutable types aren't hashable\n",
    "- lists and dictionaries cannot be used as keys but can be used as values\n",
    "\n",
    "11.5 Memos\n",
    "- bigger the argument you provide, the longer the functiont akes to run\n",
    "- call graph for fibonacci gets larger w/ each function call frame\n",
    "- a previously computed value that is stored for later use is called a memo\n",
    "- whenever a function is called, it will check a memo (named dictionary of previously computed values)-- if value is already there it will return immediately, otherwise it will compute the new value add to dict, and return\n",
    "\n",
    "11.6 Global Variables\n",
    "- variables in main are called global because they can be accessed from any function\n",
    "- global variables persist from one function to the next\n",
    "- use global variables fro flags-- boolean variabls that indicate(\"flag\") whether a condition is true. \n",
    "- ex. verbose\n",
    "- to reassign a global_variable inside a function you have to declare the global variable vefore you use it-- initialize it outside of the function, or declare global variable within the function\n",
    "- if a global variable is mutable you can modify it without declaring it \n",
    "- you can add, remove, and replace elements of a global list or dictionary, but if you want to reassign the variable you have to declare it\n",
    "\n",
    "11.7 Long integers\n",
    "- L at end of value indicates that the result is a long integer-- type long (not applicable for python 3)\n",
    "- long integers can be arbitrarily big but as they get bigger they consume more space and time\n",
    "- mathematical operators work on long integers, and functions in math.py, in general any code that works will also work with long"
   ]
  },
  {
   "cell_type": "markdown",
   "metadata": {},
   "source": [
    "**Quick check:** In about one sentence using your own words, what is a dictionary?"
   ]
  },
  {
   "cell_type": "markdown",
   "metadata": {},
   "source": [
    "a dictionary is basically a list where each item consists of a noninteger index called a key and a value of any type.  These are uniquely connected to eachother, and unique to their stated purpose. "
   ]
  },
  {
   "cell_type": "markdown",
   "metadata": {
    "is_question": true,
    "problem": "Exercise 11.2"
   },
   "source": [
    "### Exercise 2  \n",
    "\n",
    "Dictionaries have a [method called `get`](https://docs.python.org/2/library/stdtypes.html#mapping-types-dict) that takes a key and a default value. If the key appears in the dictionary, `get` returns the corresponding value; otherwise it returns the default value. For example:\n",
    "\n",
    "```\n",
    ">>> h = histogram('a')\n",
    ">>> print h\n",
    "{'a': 1}\n",
    ">>> h.get('a', 0)\n",
    "1\n",
    ">>> h.get('b', 0)\n",
    "0\n",
    "```\n",
    "\n",
    "Use `get` to write `histogram` more concisely. You should be able to eliminate the `if` statement. Add unit tests for your histogram implementation."
   ]
  },
  {
   "cell_type": "code",
   "execution_count": 26,
   "metadata": {
    "collapsed": false,
    "solution": "Exercise 11.2"
   },
   "outputs": [
    {
     "data": {
      "text/plain": [
       "TestResults(failed=0, attempted=2)"
      ]
     },
     "execution_count": 26,
     "metadata": {},
     "output_type": "execute_result"
    }
   ],
   "source": [
    "#takes in a string\n",
    "#alphabetizes string\n",
    "#strips string of spaces\n",
    "#converts all letters to lowercase\n",
    "#returns alphabetized dictionary counting the occurence of each letter in string\n",
    "def histogram(s):\n",
    "    \"\"\"\n",
    "    This function tells you how many times a each letter appears in a string\n",
    "    >>> histogram('abba')\n",
    "    {'a': 2, 'b': 2}\n",
    "    >>> histogram('pAuL ruvOlo')\n",
    "    {'a': 1, 'l': 2, 'o': 2, 'p': 1, 'r': 1, 'u': 2, 'v': 1}\n",
    "    \"\"\"\n",
    "    \n",
    "    d = dict()\n",
    "    s = ''.join(sorted(s)) #creates new alphebetized string\n",
    "    s = s.lower()          #converts all characters in string to lowercase\n",
    "    s = s.strip()          #strips all spaces from string\n",
    "    for c in s:\n",
    "        d[c] = d.get(c, 0) + 1\n",
    "    return d\n",
    "\n",
    "\n",
    "import doctest\n",
    "doctest.testmod()\n",
    "#yay it works"
   ]
  },
  {
   "cell_type": "markdown",
   "metadata": {
    "is_question": true,
    "problem": "Exercise 11.4"
   },
   "source": [
    "### Exercise 4  \n",
    "\n",
    "Modify `reverse_lookup` so that it builds and returns a list of all keys that map to `v`, or an empty list if there are none. Add unit tests for your implementation."
   ]
  },
  {
   "cell_type": "code",
   "execution_count": 13,
   "metadata": {
    "collapsed": false,
    "solution": "Exercise 11.4"
   },
   "outputs": [
    {
     "name": "stdout",
     "output_type": "stream",
     "text": [
      "**********************************************************************\n",
      "File \"__main__\", line 7, in __main__.reverse_lookup\n",
      "Failed example:\n",
      "    reverse_lookup({'a': 1, 'b': 2, 'c': 3}, 4)\n",
      "Exception raised:\n",
      "    Traceback (most recent call last):\n",
      "      File \"/usr/lib/python2.7/doctest.py\", line 1315, in __run\n",
      "        compileflags, 1) in test.globs\n",
      "      File \"<doctest __main__.reverse_lookup[2]>\", line 1, in <module>\n",
      "        reverse_lookup({'a': 1, 'b': 2, 'c': 3}, 4)\n",
      "      File \"<ipython-input-13-3314bd21094d>\", line 23, in reverse_lookup\n",
      "        raise ValueError('There are no keys for this value')\n",
      "    ValueError: There are no keys for this value\n",
      "**********************************************************************\n",
      "1 items had failures:\n",
      "   1 of   3 in __main__.reverse_lookup\n",
      "***Test Failed*** 1 failures.\n"
     ]
    }
   ],
   "source": [
    "def reverse_lookup(d, v):\n",
    "    \"\"\"looks up the keys corresponding to a certain value in a dictionary\n",
    "    >>> reverse_lookup({'a': 1, 'b': 2, 'c': 3, 'd': 4}, 3)\n",
    "    ['c']\n",
    "    >>> reverse_lookup({'a': 1, 'b': 1, 'c': 2, 'd': 1}, 1)\n",
    "    ['a', 'b', 'd']\n",
    "    >>> reverse_lookup({'a': 1, 'b': 2, 'c': 3}, 4)\n",
    "    Exception raised:\n",
    "    Traceback (most recent call last):\n",
    "      File \"/usr/lib/python2.7/doctest.py\", line 1315, in __run\n",
    "        compileflags, 1) in test.globs\n",
    "      File \"<doctest __main__.reverse_lookup[2]>\", line 1, in <module>\n",
    "        reverse_lookup({'a': 1, 'b': 2, 'c': 3}, 4)\n",
    "      File \"<ipython-input-11-6ec612b3167b>\", line 15, in reverse_lookup\n",
    "        raise ValueError('There are no keys for this value')\n",
    "    ValueError: There are no keys for this value\"\"\"\n",
    "    for k in d:\n",
    "        key_list = []\n",
    "        for k in d:\n",
    "            if d[k] == v:\n",
    "                key_list.extend(k)\n",
    "        if len(key_list) == 0:\n",
    "            raise ValueError('There are no keys for this value')\n",
    "        else:\n",
    "            return key_list\n",
    "    \n",
    "    import doctest\n",
    "    doctest.testmod()\n",
    "    \n",
    "#my exception works but I can't get the doctests to read it... \n",
    "#I read the link with \"doctests will handle errors\" but it still won't work\n",
    "#will talk to NINJA in future"
   ]
  },
  {
   "cell_type": "markdown",
   "metadata": {},
   "source": [
    "If you'd like to learn more about errors and exceptions, you can check out the [Python tutorial](https://docs.python.org/2/tutorial/errors.html) or read ahead to [Appendix A](http://www.greenteapress.com/thinkpython/html/thinkpython021.html) of Think Python. If you choose to use doctest for your unit testing, it can also [deal with exceptions](https://docs.python.org/2/library/doctest.html#what-about-exceptions)."
   ]
  },
  {
   "cell_type": "markdown",
   "metadata": {},
   "source": [
    "**Quick check** What type of objects can be used as keys to a dictionary, i.e. what property must they have?"
   ]
  },
  {
   "cell_type": "markdown",
   "metadata": {},
   "source": [
    "hashable types can be used as keys to a dictionary-- they must be immutable so that they can be converted to a hash value and kept track of.  Inversely, value types in dictionary can be anything, including mutable types"
   ]
  },
  {
   "cell_type": "markdown",
   "metadata": {
    "is_question": true,
    "problem": "Exercise 11.6"
   },
   "source": [
    "### Exercise 6 (modified)\n",
    "\n",
    "Create a memoized version of your Levenshtein distance function from Day 7. What kind of performance change do you see?\n",
    "\n",
    "Optional: If you'd like to get some quantitative results, you could check out the [timeit](https://docs.python.org/2/library/timeit.html) module\n",
    "\n",
    "Note: You can also study Fibonacci here if you prefer."
   ]
  },
  {
   "cell_type": "code",
   "execution_count": 1,
   "metadata": {
    "collapsed": false,
    "solution": "Exercise 11.6"
   },
   "outputs": [],
   "source": [
    "def levenshtein_distance(a, b, d):\n",
    "    \"\"\" returns the levenshtein distance between a and b, given a memo d\n",
    "    >>> d = {}\n",
    "    >>> levenshtein_distance('tweedle', '', d)\n",
    "    7\n",
    "    >>> levenshtein_distance('beetle', '', d)\n",
    "    6\n",
    "    >>> levenshtein_distance('puddle', 'battle', d)\n",
    "    4\n",
    "    >>> levenshtein_distance('battle', 'paddle', d)\n",
    "    3\n",
    "    >>> levenshtein_distance('Dr. Suess', '', d)\n",
    "    7\n",
    "    \"\"\"\n",
    "    #convert all strings to lower case\n",
    "    #remove spaces and punctuation\n",
    "    # is there a built in function that returns string/list of all punctuation?\n",
    "    a = a.lower()\n",
    "    b = b.lower()\n",
    "    a = a.strip(' .')\n",
    "    b = b.strip(' .')\n",
    "    if a == \"\":\n",
    "        return len(b)\n",
    "    if b == \"\":\n",
    "        return len(b)\n",
    "    if (len(a), len(b)) in d:\n",
    "        return d[(len(a), len(b))] \n",
    "    #strategy1: change the first character to match\n",
    "    if a[0] == b[0]:\n",
    "        strategy1 = levenshtein_distance(a[1:], b[1:], d)\n",
    "        d[(a, b)] = strategy1\n",
    "    else:\n",
    "        strategy1 = levenshtein_distane(a[1:], b[1:], d) + 1\n",
    "        d[(a, b)] = strategy1\n",
    "    #strategy2: drop the first character of b\n",
    "    strategy2 = 1 + levenshtein_distance(a, b[1:], d)\n",
    "    d[(a, b)] = strategy2\n",
    "    #strategy3: drop the first character of a\n",
    "    strategy3 = 1 + levenshtein_memo(a[1:], b, d)\n",
    "    d[(a, b)] = strategy3\n",
    "    \n",
    "    levenshtein = min(strategy1, strategy2, strategy3)\n",
    "    return levenshtein\n",
    "\n",
    "if __name__ == \"__main__\":\n",
    "    import doctest\n",
    "    d = {}\n",
    "    doctest.testmod"
   ]
  },
  {
   "cell_type": "markdown",
   "metadata": {},
   "source": [
    "## [Chapter 12](http://www.greenteapress.com/thinkpython/html/thinkpython013.html)\n",
    "12.1 Tuples are immutable\n",
    "- sequence of values\n",
    "- values can be any type and are indexed by integers\n",
    "- tuples are immutable, represented by series of comma separated values\n",
    "- common to enclose tuples in parentheses\n",
    "- can use built-in function tuple, or create tuple by hand\n",
    "- the argument for tuple is a sequence, result is tuple with elements of sequence\n",
    "- list operators also work on tuples-- bracket, slice\n",
    "- if you try to modify one of the elements of the tuple you get an error-- it is immutable\n",
    "\n",
    "12.2 Tuple assignment\n",
    "- often useful to swap values of two variables-- use a tuple assignment\n",
    "    a, b = b, a\n",
    "- left side is tuple of variables, right side is tuple of expressions-- each value assigned to respective variable, since immutable, cannot be changed-- fixed aliases\n",
    "- # of variables on each side of tuple must be same\n",
    "- right side can be any kind of sequence\n",
    "- split using str.split('character to be split around')\n",
    "\n",
    "12.3 Tuples as return values\n",
    "- a function can only return one value, but if the value is a tuple then it is the same as returning multiple values\n",
    "- more efficient to compute certain things at same time\n",
    "- built in function divmod\n",
    "    t = divmod(7,3)\n",
    "    print t\n",
    "    (2, 1)\n",
    "    #computes x/y and x%y (remainder function)\n",
    "    returns a tuple\n",
    "- max and min= built ins that find largest and smallest elements-- min_max computes both and returns a tuple of 2 vals\n",
    "\n",
    "12.4 Variable length argument tuples\n",
    "- * gathers arguments into a tuple\n",
    "    def printall(*args)\n",
    "        print args\n",
    "    printall(1, 2.0, '3')\n",
    "        (1, 2.0, '3')\n",
    "- scatter-- use * operator to split tuple into multiple values\n",
    "    t = (7, 3)\n",
    "    divmod(*t)\n",
    "    (2, 1)\n",
    "    \n",
    "12.5 Lists and Tuples\n",
    "- zip = built in function that takes two or more sequences and zips them into a list of tuples, each tuple contains one element from each sequence\n",
    "- result = list of tuples where each tuole contains a character from the string and the corresponding element from the list\n",
    "- if sequences are not same length, result has length of shorter sequence\n",
    "- combine zip, for, tuple assignment, useful idiom for traversing 2+ sequences at a time. \n",
    "    has_match(t1, t2):\n",
    "        for x, y, in zip(t1, t2):\n",
    "            if x == y:\n",
    "                return True\n",
    "        return False\n",
    "- has match returns True if index i such that t1[i] == t2[i]\n",
    "- enumerate = built in function\n",
    "    for index, element in enumerate('abc'):\n",
    "        print index, element\n",
    "    [(0, a), (1, b), (2, c)]\n",
    "\n",
    "12.6 Dictionaries and tuples\n",
    "- items = method returns a list of tuples where each tuple is a key-value pair\n",
    "- items are in no particular order\n",
    "- you can use a list of tuples to intiate a new dictionary-- dict(list)\n",
    "- combining dict with zip is a concise way to create a dictionary\n",
    "    d = dict(zip('abc', range(3)))\n",
    "    print d\n",
    "    {'a': 0, 'b': 1, 'c': 2}\n",
    "- items, tuple assignment, for, get idiom for traversing keys and values\n",
    "    for key, val in d.items()\n",
    "        print val, key\n",
    "    output list of tuples\n",
    "- it is common to use tuples as keys in dictionaries (no list)\n",
    "- first name, last name pairs is good example\n",
    "- 2 ways to represent tuples in state diagram\n",
    "    indices and elements just as thye appear in list\n",
    "    python syntax as graphical shorthand\n",
    "    \n",
    "12.7 Comparing tuples\n",
    "- relational operators work with tuples-- compares each element in sequence bit by bit\n",
    "- goes until it finds elements that differ, then stops\n",
    "- DSU-- decorate, sort, undecorate\n",
    "    Decorate a secquence by building a list of tuples w/ 1+ short keys preceding elements from sequence\n",
    "    Sort the list of tuples\n",
    "    Undecroate by extracting sorted elements of sequence\n",
    "\n",
    "12.8 Sequences of sequences\n",
    "- lists of tuples, lists of lists, tuples of tuples, tuples of lists\n",
    "- different kinds of sequences can frequently be used interchangeably-- how choose?\n",
    "- strings are limited, elements must be chars, immutable\n",
    "- lists more common, they are mutable\n",
    "- tuples more common for return statement than list, immutable for dictionary key, reduced risk of aliasing for multiple function arguments\n",
    "    \n",
    "**Quick check:** In about one sentence using your own words, what is a tuple?"
   ]
  },
  {
   "cell_type": "markdown",
   "metadata": {},
   "source": [
    "A tuple is an immutable sequence of values. formatted like a series of comma separated values.  values an be any type, are indexed by integers, the tuple itself is immutable"
   ]
  },
  {
   "cell_type": "markdown",
   "metadata": {
    "is_question": true,
    "problem": "Exercise 12.1"
   },
   "source": [
    "### Exercise 1  \n",
    "\n",
    "Many of the built-in functions use variable-length argument tuples. For example, `max` and `min` can take any number of arguments:\n",
    "\n",
    "```\n",
    ">>> max(1,2,3)\n",
    "3\n",
    "```\n",
    "\n",
    "But `sum` does not.\n",
    "\n",
    "```\n",
    ">>> sum(1,2,3)\n",
    "TypeError: sum expected at most 2 arguments, got 3\n",
    "```\n",
    "\n",
    "Write a function called ```sumall``` that takes any number of arguments and returns their sum. \n",
    "\n",
    "Write unit tests for your function. Do I actually need to keep saying this? Let's assume it's always a good idea :)"
   ]
  },
  {
   "cell_type": "code",
   "execution_count": 4,
   "metadata": {
    "collapsed": true,
    "solution": "Exercise 12.1"
   },
   "outputs": [],
   "source": [
    "def sumall(*args):\n",
    "    \"\"\" returns sum of all arguments\n",
    "    >>> sumall(4, 3)\n",
    "    7\n",
    "    >>> sumall(1, 1, 1, 1)\n",
    "    4\n",
    "    >>> sumall(1, 2, 0, 1)\n",
    "    4\n",
    "    >>> sumall(1, -2, 2)\n",
    "    1\n",
    "    \"\"\"\n",
    "    return sum(args)\n",
    "\n",
    "if __name__ == \"__main__\":\n",
    "    import doctest\n",
    "    doctest.testmod    "
   ]
  },
  {
   "cell_type": "markdown",
   "metadata": {},
   "source": [
    "If you're interested in more flexible ways to pass arguments to functions, check out the [Python tutorial](https://docs.python.org/2/tutorial/controlflow.html#more-on-defining-functions). For instance, you can also use keyword arguments, which are collected into a dictionary just like `*` gathers variable numbers of positional arguments into a tuple.\n",
    "\n",
    "This pattern is very common for defining functions with complex optional behaviors in Python, and you will often see definitions like:\n",
    "\n",
    "```\n",
    "def my_func(required_argument1, *arguments, **keywords):\n",
    "    ...\n",
    "```"
   ]
  },
  {
   "cell_type": "markdown",
   "metadata": {
    "is_question": true,
    "problem": "Exercise 12 sort"
   },
   "source": [
    "### Exercise\n",
    "\n",
    "Write a function `sort_by_last_letter` that takes a list of words and returns a new list with the words sorted alphabetically by the _last letter_ in the word. Hint: use the **Decorate, Sort, Undecorate** pattern. Write unit tests for your function."
   ]
  },
  {
   "cell_type": "code",
   "execution_count": 11,
   "metadata": {
    "collapsed": false,
    "solution": "Exercise 12 sort"
   },
   "outputs": [],
   "source": [
    "def sort_by_last_letter(unsorted_list):\n",
    "    \"\"\" returns a list of words sorted alphabetically by their last letter\n",
    "    >>> sort_by_last_letter(['abc', 'cde', 'efg', 'ghi'])\n",
    "    ['abc', 'cde', 'efg', 'ghi']\n",
    "    >>> sort_by_last_letter(['aba', 'bcb', 'abba', 'ruvolo'])\n",
    "    ['aba', 'abba', 'bcb', 'ruvolo']\n",
    "    \"\"\"\n",
    "    sorted_list = []\n",
    "    for word in unsorted_list:\n",
    "#         word = word.lower\n",
    "#         word = word.strip(' ')\n",
    "        sorted_list.append((word[-1], word))\n",
    "    sorted_list.sort()\n",
    "    \n",
    "    new_list = []\n",
    "    for letter, word in sorted_list:\n",
    "        new_list.append(word)\n",
    "    return new_list\n",
    "\n",
    "if __name__ == \"__main__\":\n",
    "    import doctest\n",
    "    doctest.run_docstring_examples(sort_by_last_letter, globals())"
   ]
  },
  {
   "cell_type": "markdown",
   "metadata": {},
   "source": [
    "**Quick check** Give an example of when you might use each sequence type:\n",
    "\n",
    "- tuple\n",
    "\n",
    "- list\n",
    "\n",
    "- string"
   ]
  },
  {
   "cell_type": "markdown",
   "metadata": {},
   "source": [
    "Tuple: as a key in a dictionary that needs multiple strings for a key\n",
    "List: take in multiple inputs in a function\n",
    "String: key in a dictionary"
   ]
  },
  {
   "cell_type": "markdown",
   "metadata": {
    "is_question": true,
    "problem": "Exercise 12.3"
   },
   "source": [
    "### Exercise 3  \n",
    "\n",
    "Write a function called `most_frequent` that takes a string and prints the letters in decreasing order of frequency. Find text samples from several different languages and see how letter frequency varies between languages. Compare your results with the tables at http://en.wikipedia.org/wiki/Letter_frequencies. \n",
    "\n",
    "Allen's solution (try it on your own first): http://thinkpython.com/code/most_frequent.py. "
   ]
  },
  {
   "cell_type": "code",
   "execution_count": 3,
   "metadata": {
    "collapsed": false,
    "solution": "Exercise 12.3"
   },
   "outputs": [],
   "source": [
    "def histogram(s): \n",
    "    d = dict()\n",
    "    s = ''.join(sorted(s)) #creates new alphebetized string\n",
    "    s = s.lower()          #converts all characters in string to lowercase\n",
    "    s = s.strip()          #strips all spaces from string\n",
    "    for c in s:\n",
    "        d[c] = d.get(c, 0) + 1\n",
    "    return d\n",
    "\n",
    "def most_frequent(word):\n",
    "    \"\"\"prints letters of a string in decreasing order of frequency\n",
    "    >>> most_frequent('banana')\n",
    "    [(3, 'a'), (2, 'n'), (1, 'b')]\n",
    "    \"\"\"\n",
    "    frequency = [] #initialize frequency list\n",
    "    histo = histogram(word) #use earlier function histogram to track occurences of letters\n",
    "    for letter, number in histo.iteritems(): #iterates over dicts key value pairs\n",
    "        frequency.append((number,letter)) #appends list to include number/letter tuples (works with append, not extend why?)\n",
    "    frequency.sort(reverse = True)#sorts frequency list in reverse order\n",
    "    return frequency\n",
    "\n",
    "if __name__ == \"__main__\":\n",
    "    import doctest\n",
    "    doctest.testmod"
   ]
  },
  {
   "cell_type": "markdown",
   "metadata": {
    "is_question": true,
    "problem": "Exercise 12.6"
   },
   "source": [
    "### Challenge: Exercise 6   (optional)\n",
    "\n",
    "From a [Car Talk Puzzler](http://www.cartalk.com/content/puzzlers):\n",
    "\n",
    "What is the longest English word, that remains a valid English word, as you remove its letters one at a time?\n",
    "\n",
    "Now, letters can be removed from either end, or the middle, but you can’t rearrange any of the letters. Every time you drop a letter, you wind up with another English word. If you do that, you’re eventually going to wind up with one letter and that too is going to be an English word—one that’s found in the dictionary. I want to know what’s the longest word and how many letters does it have?\n",
    "\n",
    "I’m going to give you a little modest example: Sprite. Ok? You start off with sprite, you take a letter off, one from the interior of the word, take the r away, and we’re left with the word spite, then we take the e off the end, we’re left with spit, we take the s off, we’re left with pit, it, and I. \n",
    "\n",
    "Write a program to find all words that can be reduced in this way, and then find the longest one.\n",
    "\n",
    "This exercise is a little more challenging than most, so here are some suggestions:\n",
    "\n",
    "- You might want to write a function that takes a word and computes a list of all the words that can be formed by removing one letter. These are the “children” of the word.\n",
    "- Recursively, a word is reducible if any of its children are reducible. As a base case, you can consider the empty string reducible.\n",
    "- The word list from [Chapter 9.1](http://www.greenteapress.com/thinkpython/html/thinkpython010.html) Exercise 1 doesn’t contain single letter words. So you might want to add “I”, “a”, and the empty string.\n",
    "- To improve the performance of your program, you might want to memoize the words that are known to be reducible.\n",
    "\n",
    "Allen's solution: http://thinkpython.com/code/reducible.py."
   ]
  },
  {
   "cell_type": "code",
   "execution_count": null,
   "metadata": {
    "collapsed": true,
    "solution": "Exercise 12.6"
   },
   "outputs": [],
   "source": []
  },
  {
   "cell_type": "markdown",
   "metadata": {
    "is_question": true,
    "problem": "Feedback"
   },
   "source": [
    "## Reading Journal feedback\n",
    "\n",
    "Have any comments on this Reading Journal? Feel free to leave them below and we'll read them when you submit your journal entry. This could include suggestions to improve the exercises, topics you'd like to see covered in class next time, or other feedback.\n",
    "\n",
    "If you have Python questions or run into problems while completing the reading, you should post them to Piazza instead so you can get a quick response before your journal is submitted."
   ]
  },
  {
   "cell_type": "markdown",
   "metadata": {
    "feedback_response": true,
    "solution": "Feedback"
   },
   "source": [
    " "
   ]
  }
 ],
 "metadata": {
  "celltoolbar": "Edit Metadata",
  "kernelspec": {
   "display_name": "Python 2",
   "language": "python",
   "name": "python2"
  },
  "language_info": {
   "codemirror_mode": {
    "name": "ipython",
    "version": 2
   },
   "file_extension": ".py",
   "mimetype": "text/x-python",
   "name": "python",
   "nbconvert_exporter": "python",
   "pygments_lexer": "ipython2",
   "version": "2.7.6"
  }
 },
 "nbformat": 4,
 "nbformat_minor": 0
}

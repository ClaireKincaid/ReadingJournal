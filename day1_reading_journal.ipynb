{
 "cells": [
  {
   "cell_type": "markdown",
   "metadata": {},
   "source": [
    "# Day 1 Reading Journal\n",
    "\n",
    "Hi everyone.  These are the exercises for the first set of readings from ThinkPython.  While this journal consists of several required exercises, it is meant to encourage active reading more generally.  You should use this journal to take detailed notes, catalog questions, and explore the content from ThinkPython deeply.\n",
    "\n",
    "For more information on using the Jupyter notebook, check out the documentation [here](http://nbviewer.jupyter.org/github/jupyter/notebook/blob/master/docs/source/examples/Notebook/Examples%20and%20Tutorials%20Index.ipynb).  Additionally, in order to write text in this document, you will be making use of markdown cells. A handy cheatsheet for markdown is available [here](https://github.com/adam-p/markdown-here/wiki/Markdown-Cheatsheet)."
   ]
  },
  {
   "cell_type": "code",
   "execution_count": null,
   "metadata": {
    "collapsed": false
   },
   "outputs": [],
   "source": [
    "print ('Hello World!')"
   ]
  },
  {
   "cell_type": "markdown",
   "metadata": {},
   "source": [
    "## Chapter 1\n",
    "\n",
    "Note: the exercise numbers below match up with the reading for ease of cross referencing.\n",
    "\n",
    "- goal: think like a computer scientist\n",
    "- single most important skill: problem solving: the ability formulate problemst, think creatively about solutions, and express a solution clearly and accurately\n",
    "1.1 Python programming language\n",
    "- python is a high level programming language\n",
    "    much easier to program in high level language\n",
    "    shorter & easier to read\n",
    "    more likely to be correct\n",
    "    portable-- run on different comp w/ little/no modification\n",
    "    have to be processed before they can run\n",
    "- low level languages-- machine/assembly languages\n",
    "    computers run them faster/easier\n",
    "    can only run on one kind of comuter\n",
    "    have to be rewritten to run on another computer\n",
    "- most programs written in high levle languages\n",
    "- 2 kinds of programs process highlevel to low levle program\n",
    "    interpreters: reads a program and executes it\n",
    "    compilers: reads and translates porgram before running\n",
    "        high level program = source code\n",
    "        translated program = object code or executable\n",
    "        once compiled, you can execute it repeatedly w/ no trans.\n",
    "- python is an interpreted language-- executed by interpreter\n",
    "    interactive mode: type programs and interpreter desplays res.\n",
    "        >>>> is the prompt the interpreter uses to indicate ready\n",
    "    script mode: store code in file and use interpreter to execute contents of file\n",
    "        give >>>> prompt the name of the file\n",
    "- interactive mode good for small pieces of code, anything larger you want a script\n",
    "1.2 what is a program?\n",
    "- a program is a sequence of instructions that specifies how to perform a computation\n",
    "- input: get data from keyboard, file, or other device\n",
    "- output: display data on screen or send data to file or other device\n",
    "- math: perform basic mathematical operations like add/multi\n",
    "- conditional execution: check for certain conditions to execute appropriate code\n",
    "- repetition: perform som action repeatedly, usually with some variation\n",
    "- above commands appear in every language-- every program uses\n",
    "- complex tasks divided into subtasks and subsubtasks-- algorithms\n",
    "1.3 What is debugging?\n",
    "- programming errors = bugs, tracking them down = debugging\n",
    "- 3 kinds of errors: syntax, runtime, and semantic\n",
    "- syntax error-- occurs when the syntax of a program is incorrect\n",
    "    syntax = sturcture of program and rules about structure\n",
    "- runtime errors-- error does not appear until after program has started running.\n",
    "    also called exceptions because they occur when something exceptionally bad has happened\n",
    "- semantic errors: program runs completely but doesn't do the right thing\n",
    "    user problem: it will do what you told it to do, you didn't tell it the right thing\n",
    "- experimental debugging: rich, challenging and interesting programming\n",
    "- debugging is like detective work, and experimental science\n",
    "    track down a thing, what is the thing \n",
    "    \"what happens if I do ----\"\n",
    "1.4 Formal and Natural Languages\n",
    "- natural languages: spoken languages, not designed by people\n",
    "- formal languages: designed by people for specific applications\n",
    "- programming languages are formal languages that have been designed to express computations\n",
    "- formal langues have strict rules about syntax\n",
    "    tokens: basic elements of language\n",
    "    structure: the way tokens are arranged\n",
    "- parsing: figuring out the structure of the sentence and translate\n",
    "- ambiguity: natrual languages have ambiguity, dealt with-- context clues and other information-- formal languages designed with no ambiguity. every statement has exactly 1 meaning\n",
    "- redundancy: natural languages employ lots of redundancy, are verbose-- formal languages are less redundant and more concise\n",
    "- literalness: NLs have idiom and metaphor, FLs do not\n",
    "- Poetry: used in NL for sound meaning-- do not exist in FLs\n",
    "- Prose: can be analyzed in NL but still ambiguous\n",
    "- programs: unambiguous and literal, understood entirely by analysis of tokens and structure\n",
    "1.5 The first program\n",
    "- traditionally first program you type is print \"Hello, World\"\n",
    "- print statement: displays a value on the screen\n",
    "- python 2: print 'Hello World'; python 3: print ('Hello World')\n",
    "1.6 Debugging\n",
    "- debugging brings out strong emotions-- NINJAS I will be frustrated.  I promise I don't actually despise programming or you.\n",
    "- experiment with purposefully doing things wrong to trigger errors so you know what they meann\n",
    "- find ways to take advantage of your strengths and mitigate weaknesses"
   ]
  },
  {
   "cell_type": "markdown",
   "metadata": {},
   "source": [
    "### Exercise 3\n",
    "\n",
    "Type `help()` to start the online help utility. Or you can type help('print') to get information about the print statement.  You should type `q` and then hit `enter` in the text box to exit the help utility. \n",
    "\n",
    "Note: this exercise is pretty simple (and there's not much to put in the box)!  We just want to make sure that you have tried out this super-handy feature of Python!"
   ]
  },
  {
   "cell_type": "code",
   "execution_count": null,
   "metadata": {
    "collapsed": false
   },
   "outputs": [],
   "source": [
    "help()"
   ]
  },
  {
   "cell_type": "markdown",
   "metadata": {},
   "source": [
    "### Exercise 4  \n",
    "\n",
    "Start the Python interpreter and use it as a calculator. Python’s syntax for math operations is almost the same as standard mathematical notation. For example, the symbols +, - and / denote addition, subtraction and division, as you would expect. The symbol for multiplication is *.\n",
    "\n",
    "If you run a 10 kilometer race in 43 minutes 30 seconds, what is your average time per mile? What is your average speed in miles per hour? (Hint: there are 1.61 kilometers in a mile). "
   ]
  },
  {
   "cell_type": "code",
   "execution_count": null,
   "metadata": {
    "collapsed": false
   },
   "outputs": [],
   "source": [
    "(43.5)/(10*1.61)"
   ]
  },
  {
   "cell_type": "code",
   "execution_count": null,
   "metadata": {
    "collapsed": false
   },
   "outputs": [],
   "source": [
    "(10*1.61)/(43.5/60) "
   ]
  },
  {
   "cell_type": "markdown",
   "metadata": {},
   "source": [
    "## Chapter 2\n",
    "2.1 Values and Types\n",
    "- value: basic thing a program works with (letter/number)\n",
    "    types: integer, string, float\n",
    "        ex integer: 2: single value\n",
    "        ex string: \"hello world\": string of values\n",
    "        ex float: 2.2: decimal number '.' = floating point\n",
    "- interpreter can tell you what type of value it is\n",
    "- things with commas read as comma separated integers (semantic)\n",
    "2.2 Variables\n",
    "- ability to manipulate variables = name that refers to value\n",
    "- assignment statemetn creates new varialbes w/ values\n",
    "- common = state diagram = name w/ arrow pointing to value\n",
    "2.3 Variable names and keywords\n",
    "- choose meaningful names for variables-- contain leters, numbers, underscores, must begin with letter\n",
    "- keywords: python words used by interpreter to recognize structure of program, cannot be used in variable names\n",
    "    and, del, from, not, while, as elif, global, or, with, assert, sles, if, pass, yield, break, except, import, print, class, exec, in, raise, continue, finally, is, return, def, for, lambda, try, (python 3) nonlocal\n",
    "2.4 Operators and Operands\n",
    "- operators: special symbols that represent computations like addition and multiplication\n",
    "- operands: values operator is applied to\n",
    "- exponent operand = XOR\n",
    "- floor division: python performs this when both operands are integers- the result will also be an integer since floor chops off fraction/decimal part\n",
    "2.5 Expressions and Statements\n",
    "- expression: combination of values, variables and operators\n",
    "- statement: unit of code that interpreter can execute\n",
    "- technically an experession is also a statement, simpler to think of them separately\n",
    "2.6 Interactive mode and script mode\n",
    "- test bits of code in interactive mode before you put them in script mode\n",
    "- script mode and expression by itself has no visible effect-- test in interactive mode first\n",
    "- script contains a sequence of statments-- if there is more than one statement, the results appear one at a time as the statements execute\n",
    "2.7 Order of operations\n",
    "- order of evaluation depends on rules of precedence\n",
    "    parentheses, exponents, multiplication/division, addition/subtraction\n",
    "2.8 string operations\n",
    "- you can't perform mathematical operations on strings\n",
    "- the + operator works on strings-- performs concatenation-- links strings together by linking them end to end\n",
    "- the * operator also works on strings-- performs repetetive concatenation\n",
    "2.9 comments\n",
    "- bigger/complicated programs = difficult to read\n",
    "- comments: notes added to your program to explain, start w/ #\n",
    "2.10 debugging\n",
    "- most likely syntax error = illegal variable name\n",
    "- most likely runtime error = use before def-- trying to use a variable before you have an assigned value\n",
    "- most lkely semantic error = order of operations screw up"
   ]
  },
  {
   "cell_type": "markdown",
   "metadata": {},
   "source": [
    "### Exercise 2  \n",
    "\n",
    "Assume that we execute the following assignment statements:\n",
    "\n",
    "width = 17\n",
    "height = 12.0\n",
    "delimiter = '.'\n",
    "\n",
    "For each of the following expressions, write the value of the expression and the type (of the value of the expression).\n",
    "\n",
    "1. `width/2`\n",
    "2. `width/2.0`\n",
    "3. `height/3`\n",
    "4. `1 + 2 * 5`\n",
    "5. `delimiter * 5`\n",
    "\n",
    "Please use the following markdown cell to provide your answer."
   ]
  },
  {
   "cell_type": "markdown",
   "metadata": {},
   "source": [
    "1. 8, integer\n",
    "2. 8.5, float\n",
    "3. 4, integer\n",
    "4. 11, integer\n",
    "5. '.....', string"
   ]
  },
  {
   "cell_type": "markdown",
   "metadata": {},
   "source": [
    "### Exercise 3  \n",
    "Practice using the Python interpreter as a calculator.  For each of these provide Python code that computes each answer."
   ]
  },
  {
   "cell_type": "markdown",
   "metadata": {},
   "source": [
    "The volume of a sphere with radius r is 4/3 $\\pi r^3$. What is the volume of a sphere with radius 5? Hint: 392.7 is wrong!"
   ]
  },
  {
   "cell_type": "markdown",
   "metadata": {
    "collapsed": true
   },
   "source": [
    "(4/3) * pi * (rXOR3) --> this kernel isn't working and I've restarted it four times"
   ]
  },
  {
   "cell_type": "markdown",
   "metadata": {},
   "source": [
    "Suppose the cover price of a book is \\$24.95, but bookstores get a 40% discount. Shipping costs \\$3 for the first copy and 75 cents for each additional copy. What is the total wholesale cost for 60 copies?"
   ]
  },
  {
   "cell_type": "code",
   "execution_count": 1,
   "metadata": {
    "collapsed": false
   },
   "outputs": [
    {
     "data": {
      "text/plain": [
       "62.22"
      ]
     },
     "execution_count": 1,
     "metadata": {},
     "output_type": "execute_result"
    }
   ],
   "source": [
    "(24.95*0.6)+ 3 + (0.75*59)"
   ]
  },
  {
   "cell_type": "markdown",
   "metadata": {},
   "source": [
    "If I leave my house at 6:52 am and run 1 mile at an easy pace (8:15 per mile), then 3 miles at tempo (7:12 per mile) and 1 mile at easy pace again, what time do I get home for breakfast? "
   ]
  },
  {
   "cell_type": "markdown",
   "metadata": {},
   "source": [
    "## Chapter 3\n",
    "3.1 Function Calls\n",
    "- function: named sequence of statements that performs a computation\n",
    "- function call: you \"call\" the function to perform it\n",
    "- argument: expression function returns in parentheses\n",
    "- function \"takes\" argument and \"returns\" result-- result is called a return value\n",
    "3.2 Type conversion functions\n",
    "- python built in functions that convert values from one type to another\n",
    "    'int' converts values to integer or complains\n",
    "    'float' converts integers and strings to floating point num\n",
    "    'str' converst argument to a string\n",
    "3.3 Math Functions\n",
    "- module: file that contains a collection of related functions\n",
    "- import the math module-- >>>> import math-- creates module object named math\n",
    "- >>>> print math-- gives info about modul object (built in)\n",
    "- module object contains functions and variables defined in module\n",
    "- dot notation: separate name of module and name of function w/ .\n",
    "3.4 Composition\n",
    "- composing functions: combining functions\n",
    "- anywhere you can put a value you can also put an expression\n",
    "3.5 Adding new functions\n",
    "- function definition: specifies name of new function and sequence of statements executed when function is called\n",
    "- def indicates function definition\n",
    "- first line of function definition = header, rest = body\n",
    "    header has to end with a colon\n",
    "    body has to be indented\n",
    "- for print statements, single quotes and double quotes do the same thing\n",
    "- to end function, enter an empty line (not necessary in script)\n",
    "- function object has type 'function'\n",
    "- once a function is defined you can use it alone or in combination with other functions\n",
    "3.6 Definitions and Uses\n",
    "- definitions are executed like other statements but they create function objects, and generate no output \n",
    "- create a function before you can execute it\n",
    "3.7 Flow of execution\n",
    "- flow of execution: order in which statements are executed\n",
    "- begins with first statement of program-- one at a time, top to bottom\n",
    "- function def do not alter flow of execution, but statemnts are not executed until function is called\n",
    "- function call = detour-- flow jumps to function, executes statements there, and goes back to where it was before\n",
    "- one function can call another, leads to interesting stacking\n",
    "- when you read a program, not always from top to bottom-- skip around for functions\n",
    "3.8 Parameters and arguments\n",
    "- some functions require arguments- values to make it work\n",
    "- inside function, arguments assigned to parameters\n",
    "- rules of composition apply for userdefined functions-- use any kind of expression as an argument\n",
    "- name of the variable we pass as an argument has nothing to do with name of parameter\n",
    "3.9 Variables and parameters are local\n",
    "- varibles inside functions are local-- they only exist in that function\n",
    "- paramters are also local\n",
    "- local things cannot be called outside the function\n",
    "3.10 stack diagrams\n",
    "- stack diagrams show the value of each variable and where that variable belongs\n",
    "- each function represented by a frame-- a box w/ name of function beside it and parameters and variables of that function inside it\n",
    "- frames arranged in stack-- indicates which function called which\n",
    "- if error occurs in function call, python will list functions called all the way back to main-- traceback\n",
    "    showswhat program file error occured in, what line, and what functions were executing at the time, and code causing error\n",
    "3.11 Fruitful and Void Functions\n",
    "- fruitful functions: functions that yeild results\n",
    "- void functions: functions that perform an action but don't return a value\n",
    "- if you try to print result from a void function you get a special value called None\n",
    "3.12 Why Functions?\n",
    "- creating a new function gives you an opportunity to name a group of statemenets, makes program easier to read and debug\n",
    "- functions make a program smaller by eliminating repetitive code. later, if you make a change, you only have to make it in one place\n",
    "- dividing a long program into functions allows you to debug the parts one at a time and then assemble them into a working whole\n",
    "- well designed functions are useful for many programs. once your write and debug one you can use it\n",
    "3.13 Importing with from\n",
    "- python provides two ways to import modules- import and from\n",
    "    IMPORT\n",
    "        >>>>import math\n",
    "        >>>>print math\n",
    "        <module 'math' (built in)>\n",
    "        >>>> print math.pi\n",
    "        ___BUT PRINT ERROR_____\n",
    "        >>>> print pi\n",
    "        traceback (most recent call last):\n",
    "        File \"<stdin>\", line 1, in <module> Name error: name 'pi' is not defined\n",
    "- instead use from \n",
    "         >>>>from math import pi\n",
    "         >>>>print pi\n",
    "         3.14159265359\n",
    "- OR use star operator * to import everything from the module\n",
    "    advantage: your code can be more concise\n",
    "    disadvantage: name conflicts\n",
    "3.14 Debugging\n",
    "- problems with spaces and tabs-- use spaces exclusively (no tbs)\n",
    "- find an editor that manages indentation for you\n",
    "- save program before you run it.  some automatic, some not\n",
    "- debugging takes forever with consistent incorrect program\n",
    "- to make sure you're running the right program, type a string at the beginning to return"
   ]
  },
  {
   "cell_type": "markdown",
   "metadata": {},
   "source": [
    "### Exercise 3\n",
    "\n",
    "Python provides a built-in function called len that returns the length of a string, so the value of len('allen') is 5.\n",
    "Write a function named right_justify that takes a string named s as a parameter and prints the string with enough leading spaces so that the last letter of the string is in column 70 of the display.\n",
    "\n",
    "```\n",
    ">>> right_justify('allen')\n",
    "pront                                                                 allen```"
   ]
  },
  {
   "cell_type": "code",
   "execution_count": 9,
   "metadata": {
    "collapsed": false,
    "scrolled": true
   },
   "outputs": [
    {
     "name": "stdout",
     "output_type": "stream",
     "text": [
      "                                                                 allen\n"
     ]
    }
   ],
   "source": [
    "def right_justify (x) :\n",
    "    print (' ')*(70 - len(x)) + x\n",
    "\n",
    "x = 'allen'\n",
    "right_justify(x)"
   ]
  },
  {
   "cell_type": "markdown",
   "metadata": {},
   "source": [
    "### Exercise 5\n",
    "\n",
    "This exercise can be done using only the statements and other features we have learned so far.\n",
    "\n",
    "(a) Write a function that draws a grid like the following:\n",
    "```\n",
    "+ - - - - + - - - - +\n",
    "|         |         |\n",
    "|         |         |\n",
    "|         |         |\n",
    "|         |         |\n",
    "+ - - - - + - - - - +\n",
    "|         |         |\n",
    "|         |         |\n",
    "|         |         |\n",
    "|         |         |\n",
    "+ - - - - + - - - - +\n",
    "```\n",
    "**Hint:** to print more than one value on a line, you can print a comma-separated sequence:\n",
    "print '+', '-'\n",
    "If the sequence ends with a comma, Python leaves the line unfinished, so the value printed next appears on the same line.\n",
    "print '+', \n",
    "print '-'\n",
    "The output of these statements is '+ -'.\n",
    "A print statement all by itself ends the current line and goes to the next line."
   ]
  },
  {
   "cell_type": "code",
   "execution_count": 10,
   "metadata": {
    "collapsed": false
   },
   "outputs": [
    {
     "name": "stdout",
     "output_type": "stream",
     "text": [
      "+ - - - -  + - - - -  +\n",
      "|          |          |\n",
      "|          |          |\n",
      "|          |          |\n",
      "|          |          |\n",
      "+ - - - -  + - - - -  +\n",
      "|          |          |\n",
      "|          |          |\n",
      "|          |          |\n",
      "|          |          |\n",
      "+ - - - -  + - - - -  +\n"
     ]
    }
   ],
   "source": [
    "def grid_line():\n",
    "    print '+', ('- ' * 4), '+', ('- ' * 4), '+'\n",
    "\n",
    "def grid_column_line():\n",
    "    print '|', (' ' * 8), '|', (' ' * 8), '|'\n",
    "    \n",
    "def four_square():\n",
    "    grid_line()\n",
    "    grid_column_line()\n",
    "    grid_column_line()\n",
    "    grid_column_line()\n",
    "    grid_column_line()\n",
    "    grid_line()\n",
    "    grid_column_line()\n",
    "    grid_column_line()\n",
    "    grid_column_line()\n",
    "    grid_column_line()\n",
    "    grid_line()\n",
    "    \n",
    "four_square()"
   ]
  },
  {
   "cell_type": "markdown",
   "metadata": {},
   "source": [
    "(b) Write a function that draws a similar grid with four rows and four columns."
   ]
  },
  {
   "cell_type": "code",
   "execution_count": 12,
   "metadata": {
    "collapsed": false
   },
   "outputs": [
    {
     "name": "stdout",
     "output_type": "stream",
     "text": [
      "+ - - - -  + - - - -  + - - - -  + - - - -  +\n",
      "|          |          |          |          |\n",
      "|          |          |          |          |\n",
      "|          |          |          |          |\n",
      "|          |          |          |          |\n",
      "+ - - - -  + - - - -  + - - - -  + - - - -  +\n",
      "|          |          |          |          |\n",
      "|          |          |          |          |\n",
      "|          |          |          |          |\n",
      "|          |          |          |          |\n",
      "+ - - - -  + - - - -  + - - - -  + - - - -  +\n",
      "|          |          |          |          |\n",
      "|          |          |          |          |\n",
      "|          |          |          |          |\n",
      "|          |          |          |          |\n",
      "+ - - - -  + - - - -  + - - - -  + - - - -  +\n",
      "|          |          |          |          |\n",
      "|          |          |          |          |\n",
      "|          |          |          |          |\n",
      "|          |          |          |          |\n",
      "+ - - - -  + - - - -  + - - - -  + - - - -  +\n"
     ]
    }
   ],
   "source": [
    "def grid_line():\n",
    "    print '+', ('- ' * 4), '+', ('- ' * 4),'+', ('- ' * 4),'+', ('- ' * 4), '+'\n",
    "\n",
    "\n",
    "def grid_column_line():\n",
    "    print '|', (' ' * 8), '|', (' ' * 8), '|', (' ' * 8), '|', (' ' * 8), '|'\n",
    "    \n",
    "def one_row():\n",
    "    grid_line()\n",
    "    grid_column_line()\n",
    "    grid_column_line()\n",
    "    grid_column_line()\n",
    "    grid_column_line()\n",
    "   \n",
    "def sixteen_square():\n",
    "    one_row()\n",
    "    one_row()\n",
    "    one_row()\n",
    "    one_row()\n",
    "    grid_line()\n",
    "    \n",
    "sixteen_square()"
   ]
  },
  {
   "cell_type": "markdown",
   "metadata": {},
   "source": [
    "## Chapter 5.1 - 5.7\n",
    "5.1 Modulus Operator\n",
    "- modulus operator works o integers and yeilds remainder when first operand is divided by th second-- in python, is '%'\n",
    "- surprisingly useful-- check if one number is divisible\n",
    "- extract right-most digit or digits from a number\n",
    "5.2 Boolean expressions\n",
    "- boolean expression: an expression that is either true or false\n",
    "- operator == used for boolean expression\n",
    "- relational operators\n",
    "    x != y --> x is not equal to y\n",
    "    x > y  --> x is greater than y\n",
    "    x < y  --> x is less than y\n",
    "    x >= y --> x is greater than or equal to y\n",
    "    x <= y --> x is less than or equal to y\n",
    "- for boolean, remember that == is equal, and = is assignment operator\n",
    "5.3 Logical Operators\n",
    "- three logical operators: and, or , not\n",
    "- and/or straightforward, not negates a boolean expression\n",
    "5.4 Conditional Execution\n",
    "- conditional statements give aility to check conditions and change behavior of program accordingly\n",
    "- if statement\n",
    "    boolean expression after if = condition: if true, then the indented following statement happens, if not, nothing does\n",
    "- if statements have same structure as function definitions- header w/ indented body\n",
    "- structures like this are called compound statments\n",
    "- there must be at least one statment in the body\n",
    "- if you want no statement in the body, use the pass statement\n",
    "5.5 Alternative Execution\n",
    "- alternative execution: if statement with two possibilities-- if and else. \n",
    "if ' ':\n",
    "    statement\n",
    "else:\n",
    "    statement\n",
    "5.6 Chained Conditionals\n",
    "- more than two possibilities, so more than two branches: use a chained conditional\n",
    "- if statement, followed by elif (else if abrv), followed by else\n",
    "- no limit on number of elif statments\n",
    "- else clause must be at end but not required\n",
    "- if clause at beginning, only one, required\n",
    "- each condition is checked in order\n",
    "5.7 Nested Conditionals\n",
    "- one conditional can be nested within another\n",
    "- nested conditionals become very difficult to read very quickly-- avoid when possible, elif statments better"
   ]
  },
  {
   "cell_type": "markdown",
   "metadata": {},
   "source": [
    "### Exercise 3  \n",
    "\n",
    "Fermat’s Last Theorem says that there are no positive integers a, b, and c such that $a^n + b^n = c^n$ for any values of n greater than 2.\n",
    "\n",
    "(a) Write a function named `check_fermat` that takes four parameters—a, b, c and n—and that checks to see if Fermat’s theorem holds. If n is greater than 2 and it turns out to be true that\n",
    "$a^n + b^n = c^n$ the program should print, \"Holy smokes, Fermat was wrong!\" Otherwise the program should print, \"No, that doesn’t work.\""
   ]
  },
  {
   "cell_type": "code",
   "execution_count": 18,
   "metadata": {
    "collapsed": false
   },
   "outputs": [
    {
     "name": "stdout",
     "output_type": "stream",
     "text": [
      "No, that doesn't work\n"
     ]
    }
   ],
   "source": [
    "import math\n",
    "\n",
    "def check_fermat(a, b, c, n): \n",
    "    if math.pow(a,n) + math.pow(b,n) == math.pow(c,n):\n",
    "        if n > 2:\n",
    "            print \"Holy smokes, Fermat was wrong!\"\n",
    "        else:\n",
    "            print \"Fermat holds up\"\n",
    "    else:\n",
    "        print \"No, that doesn't work\"\n",
    "    \n",
    "check_fermat(3, 4, 5, 6)"
   ]
  },
  {
   "cell_type": "markdown",
   "metadata": {},
   "source": [
    "(b) Write a function that prompts the user to input values for a, b, c and n, converts them to integers, and uses check_fermat to check whether they violate Fermat’s theorem."
   ]
  },
  {
   "cell_type": "code",
   "execution_count": 22,
   "metadata": {
    "collapsed": false
   },
   "outputs": [
    {
     "name": "stdout",
     "output_type": "stream",
     "text": [
      "No, that doesn't work\n"
     ]
    }
   ],
   "source": [
    "#enter non integer values for a, b, c, n\n",
    "\n",
    "import math\n",
    "\n",
    "def check_fermat(a, b, c, n): \n",
    "    if math.pow(a,n) + math.pow(b,n) == math.pow(c,n):\n",
    "        if n > 2:\n",
    "            print \"Holy smokes, Fermat was wrong!\"\n",
    "        else:\n",
    "            print \"Fermat holds up\"\n",
    "    else:\n",
    "        print \"No, that doesn't work\"\n",
    "\n",
    "def integer_check_fermat(a, b, c, n):\n",
    "    a = int(a)\n",
    "    b = int(b)\n",
    "    c = int(c)\n",
    "    n = int(n)\n",
    "    check_fermat(a, b, c, n)\n",
    "    \n",
    "integer_check_fermat(4.6, 3.9, 5.8, 3.5)"
   ]
  },
  {
   "cell_type": "markdown",
   "metadata": {},
   "source": [
    "### Exercise 4  \n",
    "\n",
    "If you are given three sticks, you may or may not be able to arrange them in a triangle. For example, if one of the sticks is 12 inches long and the other two are one inch long, it is clear that you will not be able to get the short sticks to meet in the middle. For any three lengths, there is a simple test to see if it is possible to form a triangle:\n",
    "> If any of the three lengths is greater than the sum of the other two, then you cannot form a triangle. Otherwise, you can. (If the sum of two lengths equals the third, they form what is called a “degenerate” triangle.)\n",
    "\n",
    "(a) Write a function named `is_triangle` that takes three integers as arguments, and that prints either \"Yes\" or \"No,\" depending on whether you can or cannot form a triangle from sticks with the given lengths."
   ]
  },
  {
   "cell_type": "code",
   "execution_count": 25,
   "metadata": {
    "collapsed": false
   },
   "outputs": [
    {
     "name": "stdout",
     "output_type": "stream",
     "text": [
      "yes\n"
     ]
    }
   ],
   "source": [
    "def is_triangle(A, B, C):\n",
    "    if A + B < C:\n",
    "        print \"no\"\n",
    "    elif C + B < A:\n",
    "        print \"no\"\n",
    "    elif A + C < B:\n",
    "        print \"no\"\n",
    "    else:\n",
    "        print \"yes\"\n",
    "        \n",
    "is_triangle(4, 5, 6)"
   ]
  },
  {
   "cell_type": "markdown",
   "metadata": {},
   "source": [
    "(b) Write a function that prompts the user to input three stick lengths, converts them to integers, and uses is_triangle to check whether sticks with the given lengths can form a triangle."
   ]
  },
  {
   "cell_type": "code",
   "execution_count": 28,
   "metadata": {
    "collapsed": false
   },
   "outputs": [
    {
     "name": "stdout",
     "output_type": "stream",
     "text": [
      "yes\n"
     ]
    }
   ],
   "source": [
    "#enter non integer values for A, B, and C\n",
    "\n",
    "def is_triangle(A, B, C):\n",
    "    if A + B < C:\n",
    "        print \"no\"\n",
    "    elif C + B < A:\n",
    "        print \"no\"\n",
    "    elif A + C < B:\n",
    "        print \"no\"\n",
    "    else:\n",
    "        print \"yes\"\n",
    "        \n",
    "def integer_is_triangle(A, B, C):\n",
    "    A = int(A)\n",
    "    B = int(B)\n",
    "    C = int(C)\n",
    "    is_triangle(A, B, C)\n",
    "    \n",
    "integer_is_triangle(3.6, 4.9, 7.0)"
   ]
  },
  {
   "cell_type": "markdown",
   "metadata": {},
   "source": [
    "## Notes for the Instructors\n",
    "\n",
    "Please use the space below to write comments to help us plan the next class session.  For instance, if you want to see us go over an example of a particular type of problem, you can indicate that here.\n",
    "\n",
    "Please remember that the best way to get quick feedback from the instructors as well as your peers, is to use Piazza.  However, consider using this channel if it doesn't make sense to post your note to Piazza."
   ]
  },
  {
   "cell_type": "markdown",
   "metadata": {},
   "source": []
  }
 ],
 "metadata": {
  "kernelspec": {
   "display_name": "Python 2",
   "language": "python",
   "name": "python2"
  },
  "language_info": {
   "codemirror_mode": {
    "name": "ipython",
    "version": 2
   },
   "file_extension": ".py",
   "mimetype": "text/x-python",
   "name": "python",
   "nbconvert_exporter": "python",
   "pygments_lexer": "ipython2",
   "version": "2.7.6"
  }
 },
 "nbformat": 4,
 "nbformat_minor": 0
}

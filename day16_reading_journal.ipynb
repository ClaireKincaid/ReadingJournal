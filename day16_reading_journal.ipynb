{
 "cells": [
  {
   "cell_type": "markdown",
   "metadata": {},
   "source": [
    "# Day 16 Reading Journal\n",
    "\n",
    "This journal includes several required exercises, but it is meant to encourage active reading more generally.  You should use the journal to take detailed notes, catalog questions, and explore the content from Think Python deeply.\n",
    "\n",
    "Reading: Think Python Appendix B (through B.2)\n",
    "\n",
    "**Due: Monday, March 28 at 12 noon**\n"
   ]
  },
  {
   "cell_type": "markdown",
   "metadata": {},
   "source": [
    "## [Appendix B](http://www.greenteapress.com/thinkpython/html/thinkpython022.html)\n",
    "\n",
    "You only need to read as far as section B.2 (inclusive), but feel free to go further and try more exercises if you are interested.\n",
    "B.1 order of growth\n",
    "- for large values of n, any function that contains an n2 term will grow faster than a function who's leading term is n\n",
    "- leading term is the term with the highest exponent\n",
    "- higher coefficients will make something better for small n values, but there will always be some value of n where an^2 > bn\n",
    "- same argument appliles to non leading terms.  even if the run time were n + 100000000000, A would be vetter than b for a sufficiently large n\n",
    "- algorithms with smaller leading terms are better algorithms for large problems\n",
    "- for smaller problems: crossover point where another algorithm is better-- location depends on details, so usually ignored during analysis, but don't forget it completely\n",
    "- for two with same leading order term are called equivalent even with different coefficients\n",
    "- order of growth: set of functions whos asymptotic growth behavior is considered equivalent\n",
    "- 2n, 100n, and n + 1 have equal orders of growth-- O(n), linear\n",
    "- n^2 functions belong to O(n^2) and are quadratic\n",
    "- O(1) = constant\n",
    "- O(logbn) = logarithmic for any b\n",
    "- O(n) = linear\n",
    "- O(nlogbn) = n log n\n",
    "- O(n^2) = quadratic\n",
    "- O(n^3) = cubic\n",
    "- O(c^n) = exponential for any c\n",
    "- base of logarithm doesnt matter, changing bases is equivalent of multiplying by a constant so doesnt change order\n",
    "- exponential functions belong to same order of growth regardless of base\n",
    "B.2 Analysis of Basic Python Operations\n",
    "- arithmetic operations are constant time\n",
    "- multiplication takes longer than add/subtract\n",
    "- division take longer-- but don't depend on magnitude of operands\n",
    "- indexing operations are constant time\n",
    "- for loops usually linear as long as all the operations in the body are constant time\n",
    "- sum is linear, but faster-- has smaller leading coefficient\n",
    "- for loop for adding list of strings then run time is quadratic, string concatenation is linear\n",
    "- join is faster because it is linear in total length\n",
    "- if the body of the loop is in O(n^a) then the loop is in O(n^a+1)\n",
    "    -exception: show the loop exits after constant umber of iterations-- if runs k times regardless of n's then the order is the same as the body even for large k\n",
    "- multiplying/dividing by constant k doesn't change the order of growth\n",
    "- most string and tuple operations are linear, except index and len which are constant time\n",
    "- run time of slice operations is proportional to length of output but unaffected by input\n",
    "- adding an element to the end of a list is constant time\n",
    "- removing an element from the end of a list is constant time\n",
    "- sorting a list is O(nlogn)\n",
    "- all other list methods are linear\n",
    "- run time of copy is proportional to number of elements\n",
    "- run time of update is proportional to the size of the input dictionary\n",
    "- keys, values, and items are linear since they return new lists\n",
    "- iterkeys, itervales, and iteritems are constant since they return iterators\n",
    "- all other dictionary operations and methods are constant time"
   ]
  },
  {
   "cell_type": "markdown",
   "metadata": {
    "is_question": true,
    "problem": "Exercise B.1"
   },
   "source": [
    "### Exercise 1  \n",
    "\n",
    "Read the [Wikipedia page on Big-Oh notation](http://en.wikipedia.org/wiki/Big_O_notation) and answer the following questions:\n",
    "\n",
    " 1. What is the order of growth of n<sup>3</sup> + n<sup>2</sup>? What about 1000000 n<sup>3</sup> + n<sup>2</sup>? What about n<sup>3</sup> + 1000000 n<sup>2</sup>?\n",
    " 2. What is the order of growth of (n<sup>2</sup> + n) * (n + 1)? Before you start multiplying, remember that you only need the leading term.\n",
    " 3. If f is in O(g), for some unspecified function g, what can we say about af+b?\n",
    " 4. If f<sub>1</sub> and f<sub>2</sub> are in O(g), what can we say about f<sub>1</sub> + f<sub>2</sub>?\n",
    " 5. If f<sub>1</sub> is in O(g) and f<sub>2</sub> is in O(h), what can we say about f<sub>1</sub> + f<sub>2</sub>?\n",
    " 6. If f<sub>1</sub> is in O(g) and f<sub>2</sub> is O(h), what can we say about f<sub>1</sub> * f<sub>2</sub>? "
   ]
  },
  {
   "cell_type": "markdown",
   "metadata": {
    "collapsed": false,
    "solution": "Exercise B.1"
   },
   "source": [
    "  1. cubic, cubic, cubic\n",
    "  2. cubic (foil it out)\n",
    "  3. it is also in O(g)\n",
    "  4. it is also in O(g)\n",
    "  5. it will either be in O(g) or O(h) depending on which leading term is larger (quadratic v. cubic, etc)\n",
    "  6. it will be in some order O(letter) that is characteristic of a leading term that exceeds the leading terms of both g and h"
   ]
  },
  {
   "cell_type": "markdown",
   "metadata": {
    "is_poll": true,
    "is_question": true,
    "problem": "Time spent"
   },
   "source": [
    "## Quick poll\n",
    "About how long did you spend working on this Reading Journal?"
   ]
  },
  {
   "cell_type": "markdown",
   "metadata": {
    "poll_response": true,
    "solution": "Time spent"
   },
   "source": [
    " "
   ]
  },
  {
   "cell_type": "markdown",
   "metadata": {
    "is_question": true,
    "problem": "Feedback"
   },
   "source": [
    "## Reading Journal feedback\n",
    "\n",
    "Have any comments on this Reading Journal? Feel free to leave them below and we'll read them when you submit your journal entry. This could include suggestions to improve the exercises, topics you'd like to see covered in class next time, or other feedback.\n",
    "\n",
    "If you have Python questions or run into problems while completing the reading, you should post them to Piazza instead so you can get a quick response before your journal is submitted."
   ]
  },
  {
   "cell_type": "markdown",
   "metadata": {
    "feedback_response": true,
    "solution": "Feedback"
   },
   "source": [
    " "
   ]
  }
 ],
 "metadata": {
  "celltoolbar": "Edit Metadata",
  "kernelspec": {
   "display_name": "Python 2",
   "language": "python",
   "name": "python2"
  },
  "language_info": {
   "codemirror_mode": {
    "name": "ipython",
    "version": 2
   },
   "file_extension": ".py",
   "mimetype": "text/x-python",
   "name": "python",
   "nbconvert_exporter": "python",
   "pygments_lexer": "ipython2",
   "version": "2.7.6"
  }
 },
 "nbformat": 4,
 "nbformat_minor": 0
}

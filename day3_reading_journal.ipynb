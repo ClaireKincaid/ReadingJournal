{
 "cells": [
  {
   "cell_type": "markdown",
   "metadata": {},
   "source": [
    "# Day 3 Reading Journal\n",
    "\n",
    "This journal includes several required exercises, but it is meant to encourage active reading more generally.  You should use the journal to take detailed notes, catalog questions, and explore the content from Think Python deeply.\n",
    "\n",
    "Reading: Think Python Chapter 8, 10.1-10.6\n",
    "\n",
    "**Due: Monday, February 1 at 12 noon**\n",
    "\n"
   ]
  },
  {
   "cell_type": "markdown",
   "metadata": {},
   "source": [
    "## [Chapter 8](http://www.greenteapress.com/thinkpython/html/thinkpython009.html)\n",
    "\n",
    "Note: the exercise numbers below match up with the reading for ease of cross referencing.\n",
    "\n",
    "8.1 A string is a sequence\n",
    "- a string is a sequence of characters\n",
    "- you can access characters one at a time with the bracket operator\n",
    "     fruit = 'banana'\n",
    "     letter = fruit[1]\n",
    "- expression in brackets is an index-- indicates which character in sequence you want\n",
    "- index is offset from the beginning of the string, first letter in string is letter 0, not letter 1\n",
    "- use any expression as an index, but the value of the index has to be an integer\n",
    "\n",
    "8.2 len\n",
    "- len is a built in function that returns the number of characters in a string\n",
    "- len is always one more than the index of the last letter, since index begins at 0\n",
    "- use negative indices, count backwards from end of string\n",
    "\n",
    "8.3 traversal with a for loop\n",
    "- computations involve processing a string one character at a time\n",
    "- traversal: pattern of processing that starts at the beginning of a sequence of characters and does something to each character until they reach the end\n",
    "- you can write traversals with a while loop, or a for loop\n",
    "\n",
    "8.4 String Slices\n",
    "- a segment of a string is called a slice. \n",
    "- selecting a slice as follows\n",
    "        s = 'monty python'\n",
    "        print s[0:5]\n",
    "        Monty\n",
    "        print s[6:12]\n",
    "        Python\n",
    "- operator [n:m] returns part of string from n to m character-- inlcuding first character, excluding the last character\n",
    "- if you omit first index, slice starts at beginning of string\n",
    "- if you omit the second index, slice goes till end of string\n",
    "- if the first index is greater than/equal to the second, resutl is an empty string-- contains no characters and has length 0\n",
    "\n",
    "8.5 Strings are immutable\n",
    "- tempting to use [] operator on left side of the assignment but it does not work.\n",
    "- object: is the same thing ans a value\n",
    "- item: one of the values in a sequence\n",
    "- strings are immutable: you can't change an existing string.  the best you can do is create a new string that is a variation of the original\n",
    "\n",
    "8.6 Searching\n",
    "- function find is opposite of the [] operator. \n",
    "- takes a character and finds the index where that character occurs\n",
    "- traversing a sequence and returning when we find what we are looking for is called a search\n",
    "\n",
    "8.7 Looping and Counting\n",
    "- counter: pattern of computation where variable count is initialized to 0 and incremented each time the searched for thing is found\n",
    "- when loop is exited, count contains the total number of times the thing was found\n",
    "\n",
    "8.8 String Methods\n",
    "- method is similar to a function: takes arguments and returns a value, but syntax is different\n",
    "- method uses syntax value.method\n",
    "    ex. word = 'banana'\n",
    "        new_word = word.upper()\n",
    "        print new_word\n",
    "        BANANA\n",
    "- dot notation specifies nameof method and name of string to apply method to.  \n",
    "\n",
    "8.9 The in operator\n",
    "- in is a boolean operator that takes two strings and returns True if the first appears in the second (ex, true if a is in banana)\n",
    "\n",
    "8.10 String comparison\n",
    "- relational operators work on strings.\n",
    "- if two strings are equal string 1 == string 2\n",
    "- other relations are used for putting words in alphabetical order.  \n",
    "- uppercase words always come before lowercase words in python so standardize input format\n",
    "\n",
    "8.11 Debugging\n",
    "- most difficult parts of a traversal are the beginning and the end\n",
    "- print values of indices immediately before error line\n",
    "- usually your value will be out of index range because you forgot that the first word is index 0"
   ]
  },
  {
   "cell_type": "markdown",
   "metadata": {},
   "source": [
    "### Exercise 1  \n",
    "\n",
    "Write a function that takes a string as an argument and displays the letters backward, one per line."
   ]
  },
  {
   "cell_type": "code",
   "execution_count": 11,
   "metadata": {
    "collapsed": false
   },
   "outputs": [
    {
     "name": "stdout",
     "output_type": "stream",
     "text": [
      "a n a n a b\n"
     ]
    }
   ],
   "source": [
    "#prints a word backwards\n",
    "#takes in word string of arbitrary length and content\n",
    "def backwards(fruit):\n",
    "    index = 5\n",
    "    while index >= 0 * len(fruit):\n",
    "        letter = fruit[index]\n",
    "        print letter,\n",
    "        index = index - 1\n",
    "    \n",
    "backwards('banana')"
   ]
  },
  {
   "cell_type": "markdown",
   "metadata": {},
   "source": [
    "**Challenge (optional):** Write a function that translates words into [Pig Latin](https://en.wikipedia.org/wiki/Pig_Latin). \n",
    "\n",
    "**Additional challenge**: Write a function that translates back into English."
   ]
  },
  {
   "cell_type": "code",
   "execution_count": null,
   "metadata": {
    "collapsed": true
   },
   "outputs": [],
   "source": [
    "def pig_latin(word):\n",
    "    \"\"\"\n",
    "    Return given 'word' translated into Pig Latin\n",
    "    \n",
    "    >>> pig_latin(\"software\")\n",
    "    'oftwaresay'\n",
    "    \"\"\"\n",
    "    pass #TODO: Implement me\n",
    "\n",
    "# If you'd like to actually run the doctests here, you can uncomment the lines below.\n",
    "# We use this slightly more complex method to test only the pig_latin function, without running tests on any other functions that may be in this notebook.\n",
    "#import doctest\n",
    "#doctest.run_docstring_examples(pig_latin, globals())"
   ]
  },
  {
   "cell_type": "markdown",
   "metadata": {},
   "source": [
    "### Exercise 5\n",
    "Encapsulate the character counting code in a fruitful function named `count` that accepts the string and the letter as arguments and returns the count."
   ]
  },
  {
   "cell_type": "code",
   "execution_count": 10,
   "metadata": {
    "collapsed": false
   },
   "outputs": [
    {
     "name": "stdout",
     "output_type": "stream",
     "text": [
      "3\n"
     ]
    }
   ],
   "source": [
    "#counts instances of a letter within a word\n",
    "#takes in two strings, a word string of arbitrary len and a letter string of len 1\n",
    "def count(word, letter): \n",
    "    count = 0\n",
    "    for index in word:\n",
    "        if index == letter:\n",
    "            count = count + 1\n",
    "    print count\n",
    "    \n",
    "count('banana', 'a')"
   ]
  },
  {
   "cell_type": "markdown",
   "metadata": {},
   "source": [
    "### Exercise 8\n",
    "Skim the documentation of the Python [string methods](http://docs.python.org/2/library/stdtypes.html#string-methods). Experiment with some of them to make sure you understand how they work. strip, replace, and upper/lower are particularly useful."
   ]
  },
  {
   "cell_type": "code",
   "execution_count": 25,
   "metadata": {
    "collapsed": false
   },
   "outputs": [
    {
     "name": "stdout",
     "output_type": "stream",
     "text": [
      "supercalifragilisticexpialidocious\n",
      "SUPERCALIFRAGILISTICEXPIALIDOCIOUS\n",
      "supercilifrigilisticexpiilidocious\n",
      "califragilisticexpialidocio\n"
     ]
    }
   ],
   "source": [
    "word = 'supercalifragilisticexpialidocious'\n",
    "\n",
    "#lower\n",
    "wordlow = word.lower()\n",
    "print wordlow\n",
    "\n",
    "#upper\n",
    "wordup = word.upper()\n",
    "print wordup\n",
    "\n",
    "#replace\n",
    "wordreplace = word.replace('a', 'i')\n",
    "print wordreplace\n",
    "\n",
    "#strip\n",
    "wordstrip = word.strip('super')\n",
    "print wordstrip"
   ]
  },
  {
   "cell_type": "markdown",
   "metadata": {},
   "source": [
    "### Exercise 11  \n",
    "\n",
    "The following functions are all intended to check whether a string contains any lowercase letters, but at least some of them are wrong. For each function, describe what the function actually does (assuming that the parameter is a string)."
   ]
  },
  {
   "cell_type": "code",
   "execution_count": 29,
   "metadata": {
    "collapsed": false
   },
   "outputs": [
    {
     "data": {
      "text/plain": [
       "False"
      ]
     },
     "execution_count": 29,
     "metadata": {},
     "output_type": "execute_result"
    }
   ],
   "source": [
    "#takes in a string and returns \"true\" if all of the letters in the string are lowercase, returns \"false\" if any letters in the string are upper case\n",
    "def any_lowercase1(s):\n",
    "    for c in s:\n",
    "        if c.islower():\n",
    "            return True\n",
    "        else:\n",
    "            return False\n",
    "        \n",
    "any_lowercase1('ABcd')"
   ]
  },
  {
   "cell_type": "markdown",
   "metadata": {},
   "source": [
    " "
   ]
  },
  {
   "cell_type": "code",
   "execution_count": 34,
   "metadata": {
    "collapsed": false
   },
   "outputs": [
    {
     "data": {
      "text/plain": [
       "'True'"
      ]
     },
     "execution_count": 34,
     "metadata": {},
     "output_type": "execute_result"
    }
   ],
   "source": [
    "#takes in string and doesn't do anything with it. Always analyzing if the value 'c', in the for loop is lowercase.  it is, so this function will always return \"true\"\n",
    "\n",
    "def any_lowercase2(s):\n",
    "    for c in s:\n",
    "        if 'c'.islower():\n",
    "            return 'True'\n",
    "        else:\n",
    "            return 'False'\n",
    "        \n"
   ]
  },
  {
   "cell_type": "markdown",
   "metadata": {},
   "source": [
    " "
   ]
  },
  {
   "cell_type": "code",
   "execution_count": 38,
   "metadata": {
    "collapsed": false
   },
   "outputs": [
    {
     "name": "stdout",
     "output_type": "stream",
     "text": [
      "False\n"
     ]
    }
   ],
   "source": [
    "def any_lowercase3(s):\n",
    "    for c in s:\n",
    "        flag = c.islower()\n",
    "    return flag\n",
    "\n",
    "#takes in a string and creates a variable \"flag\" that is the true or false value of the method \"islower\". then prints flag.  will print \"true\" if the string is lowercase and 'false\" if it is uppercase"
   ]
  },
  {
   "cell_type": "markdown",
   "metadata": {},
   "source": [
    " "
   ]
  },
  {
   "cell_type": "code",
   "execution_count": 41,
   "metadata": {
    "collapsed": false
   },
   "outputs": [
    {
     "data": {
      "text/plain": [
       "True"
      ]
     },
     "execution_count": 41,
     "metadata": {},
     "output_type": "execute_result"
    }
   ],
   "source": [
    "#takes in string but searches for only some letters to be lowercase.  Returns true for strings of mixed cases. \n",
    "def any_lowercase4(s):\n",
    "    flag = False\n",
    "    for c in s:\n",
    "        flag = flag or c.islower()\n",
    "    return flag\n",
    "\n",
    "any_lowercase4('ABcd')"
   ]
  },
  {
   "cell_type": "markdown",
   "metadata": {},
   "source": [
    " "
   ]
  },
  {
   "cell_type": "code",
   "execution_count": 45,
   "metadata": {
    "collapsed": false
   },
   "outputs": [
    {
     "data": {
      "text/plain": [
       "False"
      ]
     },
     "execution_count": 45,
     "metadata": {},
     "output_type": "execute_result"
    }
   ],
   "source": [
    "#takes in string and says if c.lower() is not true for any character c in s, then return false.  Otherwise return true\n",
    "def any_lowercase5(s):\n",
    "    for c in s:\n",
    "        if not c.islower():\n",
    "            return False\n",
    "    return True"
   ]
  },
  {
   "cell_type": "markdown",
   "metadata": {},
   "source": [
    " "
   ]
  },
  {
   "cell_type": "markdown",
   "metadata": {},
   "source": [
    "## [Chapter 10.1 - 10.6](http://www.greenteapress.com/thinkpython/html/thinkpython011.html)\n",
    "\n",
    "You may want to review [state diagrams in Chapter 2](http://www.greenteapress.com/thinkpython/html/thinkpython003.html#toc13).\n",
    "\n",
    "10.1 A list is a sequence\n",
    "- a list is a sequence of values\n",
    "- in a list, the values can be any type and you can have many types in the same list-- called elements or items\n",
    "- simplest way to create list is to enclose elements in square brackets\n",
    "- a list within another list is nested\n",
    "- list that contains no elements is an empty list-- create one with empty brackets\n",
    "\n",
    "10.2 Lists are mutable\n",
    "- syntax for accessing elements of list same as for accessing characters in string-- bracket operator\n",
    "- lists are mutable-- when bracket operator appears on left side of an assignment, it identifies the element of the list that will be assigned\n",
    "        numbers = [17, 123]\n",
    "        numbers[1] = 5\n",
    "        print numbers\n",
    "        [17, 5]\n",
    "- list is relationship between indices and elements-- MAPPING\n",
    "- each index \"maps to' one of the elemtns\n",
    "- lists represented by boxes with word list outside and elements of list inside\n",
    "- empty refers to a list with no elements\n",
    "- an integer expression can be used as an index\n",
    "- if you try to read or write an element that doesn't exist, you will get an IndexError\n",
    "- if an index has a negative value, it counts backwards from the end of the list\n",
    "- the in operator also works on lists\n",
    "\n",
    "10.3 Traversing a list\n",
    "- common way to traverse elements of list is with a for loop\n",
    "- combine functions range and len\n",
    "        for i in range(len(numbers)):\n",
    "        numbers[i] = numbers[i]*2\n",
    "- range finds element numbers, len finds length of 'numbers' list\n",
    "- a for loop over an empty list never executes the body of the loop\n",
    "\n",
    "10.4 List operations\n",
    "- the + operator concatenates lists\n",
    "- the * operator repeats a list a given number of times\n",
    "\n",
    "10.5 List slices\n",
    "- the slice operator works on lists\n",
    "    t = ['a', 'b', 'c', 'd', 'e', 'f']\n",
    "    t{1:3\n",
    "    ['b', 'c']\n",
    "    t[:4]\n",
    "    ['a', 'b', 'c', 'd']\n",
    "    etc\n",
    "- since lists are utable it is often useful to make a copy before performing pp[erations that screw up your lists\n",
    "- a slice operator omitting everything but the colon is just a copy of the list\n",
    "- a slice operator on the left side of an assignment can update multiple elements\n",
    "\n",
    "10.6 list methods\n",
    "- python provides methods that operate on lists\n",
    "- append adds a new element to the end of the list\n",
    "- extend takes a list as an argument and appends all of the elements -- leaves argument list unmodified\n",
    "- sort arranges elements of list from low to high\n",
    "- list methods are void, they modify the list and return none\n",
    "\n",
    "I'm putting these things from ex 12 here in my notes because they were interfering with my code down in the kernel.  \n",
    "#\"\"\"\n",
    "    #Given a list of string 'menu' items and a trendy 'ingredient' string of the day,\n",
    "    #return a new menu list of strings with the ingredient added to each.\n",
    "    \n",
    "    #>>> add_ingredient([\"burger\", \"salad\", \"ice cream\"], \"kale\")\n",
    "    #['burger with kale', 'salad with kale', 'ice cream with kale']\n",
    "    \n",
    "    #\"\"\"\n",
    "    #pass    # TODO: Implement me\n",
    "\n",
    "# Running doctests in jupyter notebook:\n",
    "# If you'd like to actually run the doctests here, you can uncomment the lines below.\n",
    "# We use this slightly more complex method to test only the add_ingredient function,\n",
    "# without running tests on any other functions that may be in this notebook.\n",
    "\n",
    "#import doctest\n",
    "#doctest.run_docstring_examples(add_ingredient, globals())"
   ]
  },
  {
   "cell_type": "markdown",
   "metadata": {},
   "source": [
    "**Quick check:** What type of items can be placed in a list?\n",
    "any type of items"
   ]
  },
  {
   "cell_type": "markdown",
   "metadata": {},
   "source": [
    " "
   ]
  },
  {
   "cell_type": "markdown",
   "metadata": {},
   "source": [
    "**Quick check:** Give at least one similarity and one difference between lists and strings.\n",
    "similarity: they are sequences of values\n",
    "difference: strings are restricted to only character values, while lists may contain any type of value, and several different types of values at once."
   ]
  },
  {
   "cell_type": "markdown",
   "metadata": {},
   "source": [
    " "
   ]
  },
  {
   "cell_type": "markdown",
   "metadata": {},
   "source": [
    "### Exercise\n",
    "\n",
    "Write a function `average` that takes a list of numbers and returns their arithmetic mean."
   ]
  },
  {
   "cell_type": "code",
   "execution_count": 60,
   "metadata": {
    "collapsed": false
   },
   "outputs": [
    {
     "data": {
      "text/plain": [
       "57.08"
      ]
     },
     "execution_count": 60,
     "metadata": {},
     "output_type": "execute_result"
    }
   ],
   "source": [
    "#takes in list of integers or floating point values, returns their arithmetic mean\n",
    "def average(a):\n",
    "    i = sum(a)\n",
    "    b = len(a)*1.0\n",
    "    average = i/b\n",
    "    return average\n",
    "\n",
    "a = [30.7, 50.3, 86, 27.9, 90.5]\n",
    "average(a)"
   ]
  },
  {
   "cell_type": "markdown",
   "metadata": {},
   "source": [
    "### Exercise\n",
    "You own a restaurant, and you need to keep up with the latest food fads or risk losing your fickle customers. You decide to write a Python function that adds the hot new ingredient _du jour_ to each of your regular menu items and returns the trendy new menu."
   ]
  },
  {
   "cell_type": "code",
   "execution_count": null,
   "metadata": {
    "collapsed": false
   },
   "outputs": [],
   "source": [
    "def add_ingredient(menu, ingredient):\n",
    "    i = 0\n",
    "    while 0 <= i <= ((len(menu)) - 1):\n",
    "        menu[i] = menu[i] + ' with' + ingredient\n",
    "    print menu\n",
    "    \n",
    "add_ingredient(['burger', 'salad', 'icecream'],'kale')"
   ]
  },
  {
   "cell_type": "markdown",
   "metadata": {},
   "source": [
    "## Reading Journal feedback\n",
    "\n",
    "Have any comments on this Reading Journal? Feel free to leave them below and we'll read them when you submit your journal entry. This could include suggestions to improve the exercises, topics you'd like to see covered in class next time, or other feedback.\n",
    "\n",
    "If you have Python questions or run into problems while completing the reading, you should post them to Piazza instead so you can get a quick response before your journal is submitted."
   ]
  },
  {
   "cell_type": "markdown",
   "metadata": {},
   "source": [
    " "
   ]
  }
 ],
 "metadata": {
  "kernelspec": {
   "display_name": "Python 2",
   "language": "python",
   "name": "python2"
  },
  "language_info": {
   "codemirror_mode": {
    "name": "ipython",
    "version": 2
   },
   "file_extension": ".py",
   "mimetype": "text/x-python",
   "name": "python",
   "nbconvert_exporter": "python",
   "pygments_lexer": "ipython2",
   "version": "2.7.6"
  }
 },
 "nbformat": 4,
 "nbformat_minor": 0
}

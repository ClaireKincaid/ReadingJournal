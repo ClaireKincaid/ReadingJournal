{
 "cells": [
  {
   "cell_type": "markdown",
   "metadata": {},
   "source": [
    "# Day 2 Reading Journal\n",
    "\n",
    "This journal includes several required exercises, but it is meant to encourage active reading more generally.  You should use the journal to take detailed notes, catalog questions, and explore the content from Think Python deeply.\n",
    "\n",
    "Reading: Think Python Chapter 6.1-6.4, 7\n",
    "\n",
    "**Due: Thursday, January 28 at 12 noon**\n",
    "\n"
   ]
  },
  {
   "cell_type": "markdown",
   "metadata": {},
   "source": [
    "## [Chapter 6.1-6.4](http://www.greenteapress.com/thinkpython/html/thinkpython007.html)\n",
    "\n",
    "Note: the exercise numbers below match up with the reading for ease of cross referencing.\n",
    "6.1: Return Values\n",
    "- some built in functions produce results-- calling function generates a value\n",
    "- all functions so far are void: their return value is None\n",
    "- fruitful functions return values: ex, area-- returns area of a circle w/ given radius\n",
    "def area(radius): \n",
    "\ttemp = math.p * radius**2\n",
    "\treturn temp\n",
    "- in fruitful functions, return statement includs and expression\n",
    "- temporary variables-- variables assigned to function and then returned w/ statement at end\n",
    "\tgood for debugging\n",
    "- multiple return statements make sense for different branches of a conditional-- but make sure all eventualities are covered, otherwise return will print none\n",
    "- abs = built in function computes absolute values\n",
    "\n",
    "6.2: Incremental Development\n",
    "- incremental development: avoid long debugging sessions by adding and testing only a small amount of code at a time\n",
    "- make small functions and then test their syntax/semantics to make sure they do the right thing\n",
    "- build small functions on eachother to check effectiveness\n",
    "- occasionally write print statements in code-- useful for debugging, remove afterwards\n",
    "- scaffolding: code helpful for building program but not part of final product\n",
    "    personal preference: comment everything, is easier, can leave\n",
    "- Key aspects\n",
    "    1. start with working program & make small incremental changes\n",
    "     2. use temporary variables to hold intermediate values-- display and check them\n",
    "     3. once the program is working, you might want to remove scaffolding/ condsolidate expressions to compact program\n",
    "6.3 Composition\n",
    "- composition: the ability to call one function within another\n",
    "- temporary variables and scaffolding also useful.\n",
    "- make more concise with function calls\n",
    "6.4 Boolean Functions\n",
    "- functions can return booleans-- useful for hiding complicated tests in functions\n",
    "- give boolean functions names that sound like yes/no questions\n",
    "- used in conditional statements\n",
    "- try to avoid overdefining your boolean functions"
   ]
  },
  {
   "cell_type": "markdown",
   "metadata": {},
   "source": [
    "**Quick check:** What is a _fruitful function_?\n",
    "\n",
    "A function whose return is a value, rather than an object or printed thing that is just \"None\""
   ]
  },
  {
   "cell_type": "markdown",
   "metadata": {},
   "source": [
    " "
   ]
  },
  {
   "cell_type": "markdown",
   "metadata": {},
   "source": [
    "### Exercise 1  \n",
    "Write a `compare` function that returns `1` if `x > y`, `0` if `x == y`, and `-1` if `x < y`."
   ]
  },
  {
   "cell_type": "code",
   "execution_count": 8,
   "metadata": {
    "collapsed": false
   },
   "outputs": [
    {
     "data": {
      "text/plain": [
       "0"
      ]
     },
     "execution_count": 8,
     "metadata": {},
     "output_type": "execute_result"
    }
   ],
   "source": [
    "def compare(x,y):\n",
    "    if x > y:\n",
    "        return 1\n",
    "    elif x == y:\n",
    "        return 0\n",
    "    elif x < y:\n",
    "        return -1\n",
    "\n",
    "compare(0, 0)"
   ]
  },
  {
   "cell_type": "markdown",
   "metadata": {},
   "source": [
    "**Quick check:** Modify the `absolute_value` function so that it returns the correct result for all integer inputs."
   ]
  },
  {
   "cell_type": "code",
   "execution_count": 3,
   "metadata": {
    "collapsed": false
   },
   "outputs": [
    {
     "data": {
      "text/plain": [
       "2"
      ]
     },
     "execution_count": 3,
     "metadata": {},
     "output_type": "execute_result"
    }
   ],
   "source": [
    "def absolute_value(x):\n",
    "    if x < 0:\n",
    "        return -x\n",
    "    elif x > 0:\n",
    "        return x\n",
    "    else:\n",
    "        return 0\n",
    "    \n",
    "absolute_value(2)"
   ]
  },
  {
   "cell_type": "markdown",
   "metadata": {},
   "source": [
    "### Exercise 2  \n",
    "Use incremental development to write a function called `hypotenuse` that returns the length of the hypotenuse of a right triangle given the lengths of the two legs as arguments. Record each stage of the development process as you go, using as many cells as you need."
   ]
  },
  {
   "cell_type": "code",
   "execution_count": 16,
   "metadata": {
    "collapsed": false
   },
   "outputs": [
    {
     "data": {
      "text/plain": [
       "19.209372712298546"
      ]
     },
     "execution_count": 16,
     "metadata": {},
     "output_type": "execute_result"
    }
   ],
   "source": [
    "import math\n",
    "\n",
    "def hypotenuse(a, b):\n",
    "    temp1 = math.pow(a, 2) + math.pow(b, 2)\n",
    "    temp2 = math.pow(temp1, 0.5)\n",
    "    return temp2\n",
    "\n",
    "hypotenuse(3, 4)"
   ]
  },
  {
   "cell_type": "markdown",
   "metadata": {},
   "source": [
    "### Exercise 3  \n",
    "Write a function `is_between(x, y, z)` that returns `True` if `x ≤ y ≤ z` or `False` otherwise."
   ]
  },
  {
   "cell_type": "code",
   "execution_count": 20,
   "metadata": {
    "collapsed": false
   },
   "outputs": [
    {
     "data": {
      "text/plain": [
       "'True'"
      ]
     },
     "execution_count": 20,
     "metadata": {},
     "output_type": "execute_result"
    }
   ],
   "source": [
    "def is_between(x, y, z):\n",
    "    if x <= y <= z: \n",
    "        return \"True\"\n",
    "    else:\n",
    "        return \"False\"\n",
    "    \n",
    "is_between(3, 3, 5)"
   ]
  },
  {
   "cell_type": "markdown",
   "metadata": {},
   "source": [
    "## [Chapter 7](http://www.greenteapress.com/thinkpython/html/thinkpython008.html)\n",
    "\n",
    "7.1 Multiple Assignment\n",
    "- legal to make more than one assignment to the same variable\n",
    "- a new assignment makes an existing variable refer to a new value and stop referring to the old value\n",
    "- comma at end of statement suppresses newline\n",
    "- multiple assignment: refers to ability to assign multiple values to a variable\n",
    "- w/ MA it is important to distinguish between assignment operation and statement of equality (=)assignment, (==)equality\n",
    "- python can make two variables equal but they don't have to stay that way\n",
    "    a = 5\n",
    "    b = a #b and a are equal\n",
    "    a = 3 #b and a are not equal now\n",
    "- use with caution\n",
    "7.2 Updating Variables\n",
    "- common MA = update-- new value of variable depends on the old\n",
    "- trying to update a variable that doesn't already exist not work\n",
    "- before you update, you have to initialize with an assignment\n",
    "- increment: updating a variable by adding 1\n",
    "- decrement: updating a variable by subtracting 1\n",
    "7.3 The while statement\n",
    "- automate repetative tasks-- computers do this \n",
    "- you can use recursion to perform repetition aka iteration\n",
    "- while statement ex:\n",
    "    def countdown(n):\n",
    "        while n > 0:\n",
    "            print n\n",
    "            n = n - 1\n",
    "        print 'Blastoff!'\n",
    "- above statement-- while n is greater than 0, print the value of n, which will decrease until it hits 0, then print blastoff\n",
    "- flow of execution for while statemnet\n",
    "    1. evaluate condition, yeild true or false\n",
    "    2. if condition is false, exit while statement and continue execution at next statement\n",
    "    3. if condition is true, execute body and go back to step 1\n",
    "- flow is called a loop-- 3d step loops around to the top\n",
    "- body of loop should change the value so that eventually the loop terminates-- alternative == infinite loop ==bad\n",
    "7.4 Break\n",
    "- use break statement to jump out of the loop if it returns right thing in the middle\n",
    "    while true: \n",
    "        line = raw_input('> ')\n",
    "        if line == 'done':\n",
    "        break\n",
    "        print line\n",
    "    print 'Done!'\n",
    "- above loop runs until it hits the break statement-- if the user types done, the break statement exits the loop\n",
    "- break while loops common because you can check condition anywhere in loop, and you can express stop affirmative instead of negative\n",
    "7.5 Square roots\n",
    "- loops used in programs that compute numerical results by starting with approximate answer and iteratively improving it\n",
    "- ex: newton's method of computing square roots\n",
    "- dangerous to test float equality-- floating point values are only approximately right, rational and irrational #s don't work\n",
    "- best to use built-in functions to compute abs value, mag, or difference between rational/irrational values instead \n",
    "7.6 Algorithms\n",
    "- algorithm: a mechanical process for solving a category of problems\n",
    "- not easy to know an algorithm-- easier to know specific solutions\n",
    "- process of designing algorithms is interesting-- central to programming\n",
    "- things that people do naturally are the hardest to express algorithmically-- ex. natural language\n",
    "7.7 Debugging\n",
    "- debugging by bisection: split your program in two or three with a print statement and and run the program\n",
    "    if midpoint print is incorrect, problem is in first part of program, if correct, it is in second part of program\n",
    "- think about places in the program where there might be errors and places where it is easy to put a check"
   ]
  },
  {
   "cell_type": "markdown",
   "metadata": {},
   "source": [
    "**Quick check:** How do you test for equality in Python?\n",
    "with the == operator, not the = assignment statement"
   ]
  },
  {
   "cell_type": "markdown",
   "metadata": {},
   "source": [
    " "
   ]
  },
  {
   "cell_type": "markdown",
   "metadata": {},
   "source": [
    "**Challenge:** Prove/disprove the Collatz conjecture :)\n",
    "naaah"
   ]
  },
  {
   "cell_type": "markdown",
   "metadata": {},
   "source": [
    "### Exercise 2  \n",
    "Encapsulate the loop from Section 7.5 in a function called `square_root` that takes `a` as a parameter, chooses a reasonable value of `x`, and returns an estimate of the square root of `a`."
   ]
  },
  {
   "cell_type": "code",
   "execution_count": 28,
   "metadata": {
    "collapsed": false
   },
   "outputs": [
    {
     "name": "stdout",
     "output_type": "stream",
     "text": [
      "4.0\n"
     ]
    }
   ],
   "source": [
    "import math\n",
    "\n",
    "def square_root(a):\n",
    "    epsilon = 0.0000001\n",
    "    x = a/3.0\n",
    "    while True:\n",
    "        y = (x + a/x) / 2.0\n",
    "        if abs(y-x) < epsilon:\n",
    "            break\n",
    "        x = y\n",
    "    print y\n",
    "        \n",
    "square_root(16)"
   ]
  },
  {
   "cell_type": "markdown",
   "metadata": {},
   "source": [
    "### Exercise 3  \n",
    "To test the square root algorithm you developed in Exercise 2, you could compare it with Python's `math.sqrt` function. Write a function named `test_square_root` that prints a table like this:\n",
    "\n",
    "```python\n",
    "1.0 1.0           1.0           0.0\n",
    "2.0 1.41421356237 1.41421356237 2.22044604925e-16\n",
    "3.0 1.73205080757 1.73205080757 0.0\n",
    "4.0 2.0           2.0           0.0\n",
    "5.0 2.2360679775  2.2360679775  0.0\n",
    "6.0 2.44948974278 2.44948974278 0.0\n",
    "7.0 2.64575131106 2.64575131106 0.0\n",
    "8.0 2.82842712475 2.82842712475 4.4408920985e-16\n",
    "9.0 3.0           3.0           0.0\n",
    "```\n",
    "\n",
    "The first column is a number, `a`; the second column is the square root of a computed with the function from Section 7.5; the third column is the square root computed by `math.sqrt`; the fourth column is the absolute value of the difference between the two estimates."
   ]
  },
  {
   "cell_type": "code",
   "execution_count": 44,
   "metadata": {
    "collapsed": false
   },
   "outputs": [
    {
     "name": "stdout",
     "output_type": "stream",
     "text": [
      "1.0\n"
     ]
    },
    {
     "ename": "TypeError",
     "evalue": "unsupported operand type(s) for -: 'float' and 'NoneType'",
     "output_type": "error",
     "traceback": [
      "\u001b[1;31m---------------------------------------------------------------------------\u001b[0m",
      "\u001b[1;31mTypeError\u001b[0m                                 Traceback (most recent call last)",
      "\u001b[1;32m<ipython-input-44-f6bf485c04b2>\u001b[0m in \u001b[0;36m<module>\u001b[1;34m()\u001b[0m\n\u001b[0;32m     21\u001b[0m \u001b[1;33m\u001b[0m\u001b[0m\n\u001b[0;32m     22\u001b[0m \u001b[1;33m\u001b[0m\u001b[0m\n\u001b[1;32m---> 23\u001b[1;33m \u001b[0mtest_square_root\u001b[0m\u001b[1;33m(\u001b[0m\u001b[1;36m1.0\u001b[0m\u001b[1;33m)\u001b[0m\u001b[1;33m\u001b[0m\u001b[0m\n\u001b[0m",
      "\u001b[1;32m<ipython-input-44-f6bf485c04b2>\u001b[0m in \u001b[0;36mtest_square_root\u001b[1;34m(a)\u001b[0m\n\u001b[0;32m     17\u001b[0m         \u001b[0mx\u001b[0m \u001b[1;33m=\u001b[0m \u001b[0msquare_root\u001b[0m\u001b[1;33m(\u001b[0m\u001b[0ma\u001b[0m\u001b[1;33m)\u001b[0m\u001b[1;33m\u001b[0m\u001b[0m\n\u001b[0;32m     18\u001b[0m         \u001b[0my\u001b[0m \u001b[1;33m=\u001b[0m \u001b[0mmath\u001b[0m\u001b[1;33m.\u001b[0m\u001b[0msqrt\u001b[0m\u001b[1;33m(\u001b[0m\u001b[0ma\u001b[0m\u001b[1;33m)\u001b[0m\u001b[1;33m\u001b[0m\u001b[0m\n\u001b[1;32m---> 19\u001b[1;33m         \u001b[0mz\u001b[0m \u001b[1;33m=\u001b[0m \u001b[0mabs\u001b[0m\u001b[1;33m(\u001b[0m\u001b[0my\u001b[0m \u001b[1;33m-\u001b[0m \u001b[0mx\u001b[0m\u001b[1;33m)\u001b[0m\u001b[1;33m\u001b[0m\u001b[0m\n\u001b[0m\u001b[0;32m     20\u001b[0m         \u001b[1;32mprint\u001b[0m \u001b[0ma\u001b[0m\u001b[1;33m,\u001b[0m \u001b[0mx\u001b[0m\u001b[1;33m,\u001b[0m \u001b[0my\u001b[0m\u001b[1;33m,\u001b[0m \u001b[0mz\u001b[0m\u001b[1;33m\u001b[0m\u001b[0m\n\u001b[0;32m     21\u001b[0m \u001b[1;33m\u001b[0m\u001b[0m\n",
      "\u001b[1;31mTypeError\u001b[0m: unsupported operand type(s) for -: 'float' and 'NoneType'"
     ]
    }
   ],
   "source": [
    "import math\n",
    "\n",
    "def square_root(a):\n",
    "    epsilon = 0.0000001\n",
    "    x = a/3.0\n",
    "    while True:\n",
    "        y = (x + a/x) / 2.0\n",
    "        if abs(y-x) < epsilon:\n",
    "            break\n",
    "        x = y\n",
    "    print y\n",
    "    \n",
    "def test_square_root(a):\n",
    "    a = 0.0\n",
    "    while a <= 10.0:\n",
    "        a = a + 1.0\n",
    "        x = square_root(a)\n",
    "        y = math.sqrt(a)\n",
    "        z = abs(y - x)\n",
    "        print a, x, y, z\n",
    "        \n",
    "\n",
    "test_square_root(1.0)"
   ]
  },
  {
   "cell_type": "markdown",
   "metadata": {},
   "source": [
    "### Challenge: Exercise 5  (optional)\n",
    "The mathematician Srinivasa Ramanujan found an infinite series that can be used to generate a numerical approximation of\n",
    "$\\frac{1}{\\pi}$:\n",
    "\n",
    "$$\\frac{1}{\\pi} = \\frac{2 \\sqrt{2}}{9801} \\sum_{k=0}^{\\infty} \\frac{(4k)! (1103+26390k)}{(k!)^4 396^{4k}}$$\n",
    " \n",
    "Write a function called `estimate_pi` that uses this formula to compute and return an estimate of $\\pi$. It should use a `while` loop to compute terms of the summation until the last term is smaller than `1e-15` (which is Python notation for $10^{−15}$). You can check the result by comparing it to `math.pi`.\n",
    "\n",
    "[Possible solution](http://thinkpython.com/code/pi.py) (give the exercise a try before viewing the solution)"
   ]
  },
  {
   "cell_type": "code",
   "execution_count": null,
   "metadata": {
    "collapsed": true
   },
   "outputs": [],
   "source": []
  },
  {
   "cell_type": "markdown",
   "metadata": {},
   "source": [
    "## Reading Journal feedback\n",
    "\n",
    "Have any comments on this Reading Journal? Feel free to leave them below and we'll read them when you submit your journal entry. This could include suggestions to improve the exercises, topics you'd like to see covered in class next time, or other feedback.\n",
    "\n",
    "If you have Python questions or run into problems while completing the reading, you should post them to Piazza instead so you can get a quick response before your journal is submitted."
   ]
  },
  {
   "cell_type": "markdown",
   "metadata": {},
   "source": [
    " "
   ]
  }
 ],
 "metadata": {
  "kernelspec": {
   "display_name": "Python 2",
   "language": "python",
   "name": "python2"
  },
  "language_info": {
   "codemirror_mode": {
    "name": "ipython",
    "version": 2
   },
   "file_extension": ".py",
   "mimetype": "text/x-python",
   "name": "python",
   "nbconvert_exporter": "python",
   "pygments_lexer": "ipython2",
   "version": "2.7.6"
  }
 },
 "nbformat": 4,
 "nbformat_minor": 0
}
